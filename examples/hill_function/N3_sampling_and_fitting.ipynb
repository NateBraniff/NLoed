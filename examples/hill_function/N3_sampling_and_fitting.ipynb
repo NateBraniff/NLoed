{
 "cells": [
  {
   "cell_type": "markdown",
   "id": "infectious-smell",
   "metadata": {},
   "source": [
    "# Sampling and Fitting the Hill Function Model\n"
   ]
  },
  {
   "cell_type": "code",
   "execution_count": 1,
   "id": "active-rotation",
   "metadata": {},
   "outputs": [],
   "source": [
    "%%capture\n",
    "from N2_optimizing_a_design import *"
   ]
  },
  {
   "cell_type": "markdown",
   "id": "statewide-contest",
   "metadata": {},
   "source": [
    "### Sampling the Model using Simulated Data\n",
    "\n"
   ]
  },
  {
   "cell_type": "code",
   "execution_count": 2,
   "id": "colonial-shopper",
   "metadata": {},
   "outputs": [
    {
     "output_type": "stream",
     "name": "stdout",
     "text": [
      "Sampling Datasets: |██████████████████████████████████████████████████| 100.0%\n     Inducer     Variable  Observation\n0   0.100000  Observation     1.208201\n1   0.100000  Observation     1.264789\n2   0.100000  Observation     1.318171\n3   0.100000  Observation     1.178521\n4   0.100000  Observation     1.199139\n5   0.100000  Observation     1.426627\n6   0.100000  Observation     1.354351\n7   0.100000  Observation     1.269934\n8   0.100000  Observation     1.273543\n9   0.100000  Observation     1.115927\n10  0.100000  Observation     1.314204\n11  0.100000  Observation     1.154439\n12  5.000000  Observation     4.512941\n13  5.000000  Observation     4.340637\n14  5.000000  Observation     4.546798\n15  5.000000  Observation     4.379454\n16  5.000000  Observation     4.534798\n17  5.000000  Observation     4.193700\n18  5.000000  Observation     4.215796\n19  5.000000  Observation     4.739283\n20  5.000000  Observation     4.763576\n21  5.000000  Observation     5.105517\n22  5.000000  Observation     4.049283\n23  5.000000  Observation     4.701681\n24  0.420383  Observation     1.959134\n25  0.420383  Observation     1.906910\n26  0.420383  Observation     1.841887\n27  0.420383  Observation     1.973437\n28  0.420383  Observation     1.746761\n29  0.420383  Observation     1.789230\n30  0.420383  Observation     2.202409\n31  0.420383  Observation     1.854250\n32  0.420383  Observation     1.647690\n33  0.420383  Observation     1.849398\n34  0.420383  Observation     1.983982\n35  0.420383  Observation     1.822232\n36  1.818286  Observation     3.057188\n37  1.818286  Observation     3.767376\n38  1.818286  Observation     3.107369\n39  1.818286  Observation     3.696129\n40  1.818286  Observation     3.207879\n41  1.818286  Observation     3.523668\n42  1.818286  Observation     3.285694\n43  1.818286  Observation     3.370357\n44  1.818286  Observation     3.285908\n45  1.818286  Observation     3.332778\n46  1.818286  Observation     3.212224\n47  1.818286  Observation     3.347794\n"
     ]
    }
   ],
   "source": [
    "optimal_design_data = hill_model.sample(exact_continuous_design, nominal_param)\n",
    "print(optimal_design_data)"
   ]
  },
  {
   "cell_type": "markdown",
   "id": "dependent-basement",
   "metadata": {},
   "source": [
    "### Fitting the Model with Maximum Likelihood"
   ]
  },
  {
   "cell_type": "code",
   "execution_count": 3,
   "id": "optimum-cambridge",
   "metadata": {},
   "outputs": [],
   "source": [
    "fit_options={'Confidence':'Profiles',  \n",
    "             'InitParamBounds':[(-1,4),(-1,4),(-1,4),(-1,4)],\n",
    "             'InitSearchNumber':7,\n",
    "             'SearchBound':5.}\n"
   ]
  },
  {
   "cell_type": "markdown",
   "id": "declared-wrong",
   "metadata": {},
   "source": []
  },
  {
   "cell_type": "code",
   "execution_count": 4,
   "id": "corrected-booking",
   "metadata": {},
   "outputs": [
    {
     "output_type": "error",
     "ename": "NameError",
     "evalue": "name 'data' is not defined",
     "traceback": [
      "\u001b[0;31m---------------------------------------------------------------------------\u001b[0m",
      "\u001b[0;31mNameError\u001b[0m                                 Traceback (most recent call last)",
      "\u001b[0;32m<ipython-input-4-3d8f57f90046>\u001b[0m in \u001b[0;36m<module>\u001b[0;34m\u001b[0m\n\u001b[0;32m----> 1\u001b[0;31m \u001b[0mfit_info\u001b[0m \u001b[0;34m=\u001b[0m \u001b[0mhill_model\u001b[0m\u001b[0;34m.\u001b[0m\u001b[0mfit\u001b[0m\u001b[0;34m(\u001b[0m\u001b[0mdata\u001b[0m\u001b[0;34m,\u001b[0m \u001b[0moptions\u001b[0m\u001b[0;34m=\u001b[0m\u001b[0mfit_options\u001b[0m\u001b[0;34m)\u001b[0m\u001b[0;34m\u001b[0m\u001b[0;34m\u001b[0m\u001b[0m\n\u001b[0m\u001b[1;32m      2\u001b[0m \u001b[0mprint\u001b[0m\u001b[0;34m(\u001b[0m\u001b[0mfit_info\u001b[0m\u001b[0;34m[\u001b[0m\u001b[0;34m'Estimate'\u001b[0m\u001b[0;34m]\u001b[0m\u001b[0;34m)\u001b[0m\u001b[0;34m\u001b[0m\u001b[0;34m\u001b[0m\u001b[0m\n",
      "\u001b[0;31mNameError\u001b[0m: name 'data' is not defined"
     ]
    }
   ],
   "source": [
    "fit_info = hill_model.fit(data, options=fit_options)\n",
    "print(fit_info['Estimate'])"
   ]
  },
  {
   "cell_type": "code",
   "execution_count": 33,
   "id": "fresh-short",
   "metadata": {},
   "outputs": [
    {
     "name": "stdout",
     "output_type": "stream",
     "text": [
      "Parameter     Basal      Rate      Hill  HalfConst\n",
      "0         -0.693128  1.183252 -0.074704  -0.536521\n",
      "Parameter     Basal      Rate     Hill  HalfConst\n",
      "0          0.307622  2.196458  1.96355   0.579308\n"
     ]
    }
   ],
   "source": [
    "print(fit_info['Lower'])\n",
    "print(fit_info['Upper'])"
   ]
  },
  {
   "cell_type": "markdown",
   "id": "southern-adult",
   "metadata": {},
   "source": []
  },
  {
   "cell_type": "code",
   "execution_count": 29,
   "id": "progressive-commander",
   "metadata": {},
   "outputs": [
    {
     "name": "stdout",
     "output_type": "stream",
     "text": [
      "[1.11737571 4.10439541 1.37790608 1.22812728]\n"
     ]
    }
   ],
   "source": [
    "fit_params = fit_info['Estimate'].to_numpy().flatten()\n",
    "print(np.exp(fit_params))"
   ]
  },
  {
   "cell_type": "code",
   "execution_count": 30,
   "id": "alpha-ethernet",
   "metadata": {},
   "outputs": [
    {
     "name": "stdout",
     "output_type": "stream",
     "text": [
      "[1. 5. 2. 1.]\n"
     ]
    }
   ],
   "source": [
    "print(np.exp(nominal_param))"
   ]
  }
 ],
 "metadata": {
  "kernelspec": {
   "name": "python376jvsc74a57bd0e3068e0c69846ff1dba77e97005419116c8fbd85cab8336137aaaaf8082177f0",
   "display_name": "Python 3.7.6 64-bit ('NLoed': pyenv)"
  },
  "language_info": {
   "codemirror_mode": {
    "name": "ipython",
    "version": 3
   },
   "file_extension": ".py",
   "mimetype": "text/x-python",
   "name": "python",
   "nbconvert_exporter": "python",
   "pygments_lexer": "ipython3",
   "version": "3.7.6"
  }
 },
 "nbformat": 4,
 "nbformat_minor": 5
}