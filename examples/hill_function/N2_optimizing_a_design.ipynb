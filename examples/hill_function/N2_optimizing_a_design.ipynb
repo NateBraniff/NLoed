{
 "cells": [
  {
   "cell_type": "markdown",
   "id": "german-formation",
   "metadata": {},
   "source": [
    "# Optimizing a Design for the Hill Function Model\n",
    "\n"
   ]
  },
  {
   "cell_type": "code",
   "execution_count": 2,
   "id": "every-negative",
   "metadata": {},
   "outputs": [],
   "source": [
    "%%capture\n",
    "import numpy as np\n",
    "from N1_model_creation import *"
   ]
  },
  {
   "source": [
    "### Setting the Nominal Parameter Values and Design Objective"
   ],
   "cell_type": "markdown",
   "metadata": {}
  },
  {
   "cell_type": "code",
   "execution_count": 3,
   "id": "progressive-orientation",
   "metadata": {},
   "outputs": [],
   "source": [
    "#set nominal parameter values, from previous fit or literature\n",
    "nominal_param = np.log([1,5,2,1])\n",
    "#set design objective, here D-optimal design is used\n",
    "objective = 'D'"
   ]
  },
  {
   "cell_type": "markdown",
   "id": "changed-backup",
   "metadata": {},
   "source": [
    "### Creating a Optimal Design with Continuous Optimized Input Levels"
   ]
  },
  {
   "cell_type": "code",
   "execution_count": 4,
   "id": "guided-community",
   "metadata": {},
   "outputs": [],
   "source": [
    "#create a dictionary describing the design requirments for a continuous design\n",
    "#here input inducer levels are optimization variables that will be selected\n",
    "#four unique inducer levels are allowed for in the design optimization\n",
    "continuous_inputs={'Inputs':['Inducer'],\n",
    "                   'Bounds':[(.1,5)],\n",
    "                   'Structure':[['x1'],['x2'],['x3'],['x4']]}\n"
   ]
  },
  {
   "cell_type": "code",
   "execution_count": 14,
   "id": "fabulous-white",
   "metadata": {},
   "outputs": [
    {
     "output_type": "stream",
     "name": "stdout",
     "text": [
      "Setting up optimization problem...problem set-up complete.\nBegining optimization:\nOptimization succeded!\nReturn status:  Solve_Succeeded\nIteration count:  7\n"
     ]
    }
   ],
   "source": [
    "#instantiate the NLoed design object\n",
    "continuous_design_object = nl.Design(hill_model, nominal_param, objective, continuous_inputs=continuous_inputs)"
   ]
  },
  {
   "cell_type": "code",
   "execution_count": 6,
   "id": "steady-vertical",
   "metadata": {},
   "outputs": [
    {
     "output_type": "execute_result",
     "data": {
      "text/plain": [
       "    Inducer     Variable  Weights\n",
       "0  1.818286  Observation     0.25\n",
       "1  0.420383  Observation     0.25\n",
       "2  0.100000  Observation     0.25\n",
       "3  5.000000  Observation     0.25"
      ],
      "text/html": "<div>\n<style scoped>\n    .dataframe tbody tr th:only-of-type {\n        vertical-align: middle;\n    }\n\n    .dataframe tbody tr th {\n        vertical-align: top;\n    }\n\n    .dataframe thead th {\n        text-align: right;\n    }\n</style>\n<table border=\"1\" class=\"dataframe\">\n  <thead>\n    <tr style=\"text-align: right;\">\n      <th></th>\n      <th>Inducer</th>\n      <th>Variable</th>\n      <th>Weights</th>\n    </tr>\n  </thead>\n  <tbody>\n    <tr>\n      <th>0</th>\n      <td>1.818286</td>\n      <td>Observation</td>\n      <td>0.25</td>\n    </tr>\n    <tr>\n      <th>1</th>\n      <td>0.420383</td>\n      <td>Observation</td>\n      <td>0.25</td>\n    </tr>\n    <tr>\n      <th>2</th>\n      <td>0.100000</td>\n      <td>Observation</td>\n      <td>0.25</td>\n    </tr>\n    <tr>\n      <th>3</th>\n      <td>5.000000</td>\n      <td>Observation</td>\n      <td>0.25</td>\n    </tr>\n  </tbody>\n</table>\n</div>"
     },
     "metadata": {},
     "execution_count": 6
    }
   ],
   "source": [
    "#use the relaxed method to print out the optimal relaxed design\n",
    "#note, relaxed design's have continuous weights rather than a number of samples for each input-observation pair\n",
    "continuous_design_object.relaxed()"
   ]
  },
  {
   "cell_type": "code",
   "execution_count": 7,
   "metadata": {},
   "outputs": [
    {
     "output_type": "execute_result",
     "data": {
      "text/plain": [
       "    Inducer     Variable  Replicates\n",
       "0  1.818286  Observation          12\n",
       "1  0.420383  Observation          12\n",
       "2  0.100000  Observation          12\n",
       "3  5.000000  Observation          12"
      ],
      "text/html": "<div>\n<style scoped>\n    .dataframe tbody tr th:only-of-type {\n        vertical-align: middle;\n    }\n\n    .dataframe tbody tr th {\n        vertical-align: top;\n    }\n\n    .dataframe thead th {\n        text-align: right;\n    }\n</style>\n<table border=\"1\" class=\"dataframe\">\n  <thead>\n    <tr style=\"text-align: right;\">\n      <th></th>\n      <th>Inducer</th>\n      <th>Variable</th>\n      <th>Replicates</th>\n    </tr>\n  </thead>\n  <tbody>\n    <tr>\n      <th>0</th>\n      <td>1.818286</td>\n      <td>Observation</td>\n      <td>12</td>\n    </tr>\n    <tr>\n      <th>1</th>\n      <td>0.420383</td>\n      <td>Observation</td>\n      <td>12</td>\n    </tr>\n    <tr>\n      <th>2</th>\n      <td>0.100000</td>\n      <td>Observation</td>\n      <td>12</td>\n    </tr>\n    <tr>\n      <th>3</th>\n      <td>5.000000</td>\n      <td>Observation</td>\n      <td>12</td>\n    </tr>\n  </tbody>\n</table>\n</div>"
     },
     "metadata": {},
     "execution_count": 7
    }
   ],
   "source": [
    "#set the sample size for the exact design\n",
    "sample_size = 48\n",
    "#use the round function to round the optimal relaxed design to an exact one\n",
    "exact_continuous_design = continuous_design_object.round(sample_size)\n",
    "exact_continuous_design"
   ]
  },
  {
   "source": [
    "### Creating an Optimal Design with Predefined Discrete Input Levels"
   ],
   "cell_type": "markdown",
   "metadata": {}
  },
  {
   "cell_type": "code",
   "execution_count": 8,
   "metadata": {},
   "outputs": [],
   "source": [
    "#create a dictionary describing the design requirments for a discrete design\n",
    "#here input inducer levels must be selected from the candidate list\n",
    "#the design optimization will allocate the number of observations to each input level\n",
    "discrete_inputs={'Inputs':['Inducer'],\n",
    "                 'Candidates':[[.1,.25,.5,1,2,3,4,5]]}"
   ]
  },
  {
   "source": [
    "#instantiate the NLoed design object\n",
    "discrete_design_object = nl.Design(hill_model, nominal_param, objective, discrete_inputs=discrete_inputs)"
   ],
   "cell_type": "code",
   "metadata": {},
   "execution_count": 9,
   "outputs": [
    {
     "output_type": "stream",
     "name": "stdout",
     "text": [
      "Setting up optimization problem...problem set-up complete.\nBegining optimization:\nOptimization succeded!\nReturn status:  Solve_Succeeded\nIteration count:  7\n"
     ]
    }
   ]
  },
  {
   "cell_type": "code",
   "execution_count": 10,
   "metadata": {},
   "outputs": [
    {
     "output_type": "execute_result",
     "data": {
      "text/plain": [
       "   Inducer     Variable  Weights\n",
       "0      0.1  Observation     0.25\n",
       "1      0.5  Observation     0.25\n",
       "2      2.0  Observation     0.25\n",
       "3      5.0  Observation     0.25"
      ],
      "text/html": "<div>\n<style scoped>\n    .dataframe tbody tr th:only-of-type {\n        vertical-align: middle;\n    }\n\n    .dataframe tbody tr th {\n        vertical-align: top;\n    }\n\n    .dataframe thead th {\n        text-align: right;\n    }\n</style>\n<table border=\"1\" class=\"dataframe\">\n  <thead>\n    <tr style=\"text-align: right;\">\n      <th></th>\n      <th>Inducer</th>\n      <th>Variable</th>\n      <th>Weights</th>\n    </tr>\n  </thead>\n  <tbody>\n    <tr>\n      <th>0</th>\n      <td>0.1</td>\n      <td>Observation</td>\n      <td>0.25</td>\n    </tr>\n    <tr>\n      <th>1</th>\n      <td>0.5</td>\n      <td>Observation</td>\n      <td>0.25</td>\n    </tr>\n    <tr>\n      <th>2</th>\n      <td>2.0</td>\n      <td>Observation</td>\n      <td>0.25</td>\n    </tr>\n    <tr>\n      <th>3</th>\n      <td>5.0</td>\n      <td>Observation</td>\n      <td>0.25</td>\n    </tr>\n  </tbody>\n</table>\n</div>"
     },
     "metadata": {},
     "execution_count": 10
    }
   ],
   "source": [
    "#use the relaxed method to print out the optimal relaxed design\n",
    "discrete_design_object.relaxed()"
   ]
  },
  {
   "cell_type": "code",
   "execution_count": 11,
   "metadata": {},
   "outputs": [
    {
     "output_type": "execute_result",
     "data": {
      "text/plain": [
       "   Inducer     Variable  Replicates\n",
       "0      0.1  Observation          12\n",
       "1      0.5  Observation          12\n",
       "2      2.0  Observation          12\n",
       "3      5.0  Observation          12"
      ],
      "text/html": "<div>\n<style scoped>\n    .dataframe tbody tr th:only-of-type {\n        vertical-align: middle;\n    }\n\n    .dataframe tbody tr th {\n        vertical-align: top;\n    }\n\n    .dataframe thead th {\n        text-align: right;\n    }\n</style>\n<table border=\"1\" class=\"dataframe\">\n  <thead>\n    <tr style=\"text-align: right;\">\n      <th></th>\n      <th>Inducer</th>\n      <th>Variable</th>\n      <th>Replicates</th>\n    </tr>\n  </thead>\n  <tbody>\n    <tr>\n      <th>0</th>\n      <td>0.1</td>\n      <td>Observation</td>\n      <td>12</td>\n    </tr>\n    <tr>\n      <th>1</th>\n      <td>0.5</td>\n      <td>Observation</td>\n      <td>12</td>\n    </tr>\n    <tr>\n      <th>2</th>\n      <td>2.0</td>\n      <td>Observation</td>\n      <td>12</td>\n    </tr>\n    <tr>\n      <th>3</th>\n      <td>5.0</td>\n      <td>Observation</td>\n      <td>12</td>\n    </tr>\n  </tbody>\n</table>\n</div>"
     },
     "metadata": {},
     "execution_count": 11
    }
   ],
   "source": [
    "#set the sample size for the exact design\n",
    "sample_size = 48\n",
    "#use the round function to round the optimal relaxed design to an exact one\n",
    "exact_discrete_design = discrete_design_object.round(sample_size)\n",
    "exact_discrete_design"
   ]
  }
 ],
 "metadata": {
  "kernelspec": {
   "name": "python376jvsc74a57bd0e3068e0c69846ff1dba77e97005419116c8fbd85cab8336137aaaaf8082177f0",
   "display_name": "Python 3.7.6 64-bit ('NLoed': pyenv)"
  },
  "language_info": {
   "codemirror_mode": {
    "name": "ipython",
    "version": 3
   },
   "file_extension": ".py",
   "mimetype": "text/x-python",
   "name": "python",
   "nbconvert_exporter": "python",
   "pygments_lexer": "ipython3",
   "version": "3.7.6"
  }
 },
 "nbformat": 4,
 "nbformat_minor": 5
}