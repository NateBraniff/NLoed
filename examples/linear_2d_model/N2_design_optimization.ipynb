{
 "cells": [
  {
   "cell_type": "markdown",
   "id": "laughing-myrtle",
   "metadata": {},
   "source": [
    "# Optimal Design for the 2-Input Linear Regression Model"
   ]
  },
  {
   "cell_type": "markdown",
   "id": "fossil-namibia",
   "metadata": {},
   "source": [
    "This example demonstrates how to generate an optimal design for the 2-input linear regression model dicussed in the previous notebook. To start we, import the *N1_model_creation* notebook so that the NLoed Model instance is available here."
   ]
  },
  {
   "cell_type": "code",
   "execution_count": 1,
   "id": "emotional-anthropology",
   "metadata": {},
   "outputs": [],
   "source": [
    "from scripts.N1_model_creation import *"
   ]
  },
  {
   "cell_type": "markdown",
   "id": "received-lightning",
   "metadata": {},
   "source": [
    "###  Instantiating a Design Object\n",
    "\n",
    "To create the NLoed design object we need to specify some aspects of the design we wish to generate, related to the physical constraints and the numerical formulation that will be used. We start by specifying the nominal parameter values and the objective function we will use in this design. Here we set the nominal parameters to all be $1$ and we use a D-optimal objective:"
   ]
  },
  {
   "cell_type": "code",
   "execution_count": 2,
   "id": "combined-induction",
   "metadata": {},
   "outputs": [],
   "source": [
    "nominal_param = [1,1,1]\n",
    "objective = 'D'"
   ]
  },
  {
   "cell_type": "markdown",
   "id": "biological-population",
   "metadata": {},
   "source": [
    "We now need to specify how the Design algorithm will treat the inputs to the model. The main choice here is whether the model inputs are handled discretly or continuously. In this example we choose a continuous approach, see the NLoed manual and background documentation for further discussion and comparison. To have the Design object handle both inputs, $x1$ and $x2$ continuously we need to creat a continuous inputs dictionary that specifies the bounds of both inputs and the number of unique levels of each input the optimization algorithm will consider. Here we create a continuous_inputs dictionary which bounds both inputs between $-1$ and $1$ and allows for three unique pairs of input vectors to be considered in the design optimization (inidcated by the '*_lv#'* suffix in the *Structure* field):"
   ]
  },
  {
   "cell_type": "code",
   "execution_count": 3,
   "id": "collected-meeting",
   "metadata": {},
   "outputs": [],
   "source": [
    "continuous_inputs={'Inputs':['Input_x1','Input_x2'],\n",
    "                   'Bounds':[(-1,1),(-1,1)],\n",
    "                   'Structure':[['Input1_lv1','Input2_lv1'],\n",
    "                                ['Input1_lv2','Input2_lv2'],\n",
    "                                ['Input1_lv3','Input2_lv3']]}"
   ]
  },
  {
   "cell_type": "markdown",
   "id": "allied-schedule",
   "metadata": {},
   "source": [
    "We now pass all of the design specification along with the model object, *linear_model*, into the NLoed Design constructor in order to instantiate a design object:"
   ]
  },
  {
   "cell_type": "code",
   "execution_count": 4,
   "id": "miniature-adrian",
   "metadata": {},
   "outputs": [
    {
     "name": "stdout",
     "output_type": "stream",
     "text": [
      "\n",
      "******************************************************************************\n",
      "This program contains Ipopt, a library for large-scale nonlinear optimization.\n",
      " Ipopt is released as open source code under the Eclipse Public License (EPL).\n",
      "         For more information visit http://projects.coin-or.org/Ipopt\n",
      "******************************************************************************\n",
      "\n",
      "This is Ipopt version 3.12.3, running with linear solver mumps.\n",
      "NOTE: Other linear solvers might be more efficient (see Ipopt documentation).\n",
      "\n",
      "Number of nonzeros in equality constraint Jacobian...:        3\n",
      "Number of nonzeros in inequality constraint Jacobian.:        0\n",
      "Number of nonzeros in Lagrangian Hessian.............:       45\n",
      "\n",
      "Total number of variables............................:        9\n",
      "                     variables with only lower bounds:        0\n",
      "                variables with lower and upper bounds:        9\n",
      "                     variables with only upper bounds:        0\n",
      "Total number of equality constraints.................:        1\n",
      "Total number of inequality constraints...............:        0\n",
      "        inequality constraints with only lower bounds:        0\n",
      "   inequality constraints with lower and upper bounds:        0\n",
      "        inequality constraints with only upper bounds:        0\n",
      "\n",
      "iter    objective    inf_pr   inf_du lg(mu)  ||d||  lg(rg) alpha_du alpha_pr  ls\n",
      "   0  6.2486461e-02 0.00e+00 3.69e+00  -1.0 0.00e+00    -  0.00e+00 0.00e+00   0\n",
      "   1 -1.1675447e-01 0.00e+00 2.88e+00  -1.0 2.64e-02   2.0 1.00e+00 1.00e+00f  1\n",
      "   2 -3.7177307e-01 0.00e+00 2.10e+00  -1.0 5.24e-02   1.5 1.00e+00 1.00e+00f  1\n",
      "   3 -6.8831854e-01 0.00e+00 1.42e+00  -1.0 9.88e-02   1.0 1.00e+00 1.00e+00f  1\n",
      "   4 -1.0635512e+00 2.22e-16 9.22e-01  -1.0 1.86e-01   0.6 1.00e+00 1.00e+00f  1\n",
      "   5 -1.5686305e+00 0.00e+00 5.26e-01  -1.7 3.12e-01   0.1 9.38e-01 1.00e+00f  1\n",
      "   6 -1.9752144e+00 0.00e+00 3.23e-01  -1.7 4.63e-01  -0.4 1.00e+00 7.62e-01f  1\n",
      "   7 -2.0822889e+00 0.00e+00 1.50e-01  -1.7 6.63e-01  -0.9 7.51e-01 4.74e-01f  1\n",
      "   8 -2.1113196e+00 0.00e+00 2.69e-02  -2.5 7.28e-02  -0.4 1.00e+00 1.00e+00f  1\n",
      "   9 -2.1240094e+00 0.00e+00 1.74e-02  -3.8 1.58e-01  -0.9 8.69e-01 6.49e-01f  1\n",
      "iter    objective    inf_pr   inf_du lg(mu)  ||d||  lg(rg) alpha_du alpha_pr  ls\n",
      "  10 -2.1243795e+00 0.00e+00 3.26e-02  -3.8 1.88e+00    -  1.62e-01 1.05e-01f  2\n",
      "  11 -2.1252577e+00 0.00e+00 3.71e-01  -3.8 1.52e+00  -0.5 9.31e-01 2.52e-01f  1\n",
      "  12 -2.1247927e+00 0.00e+00 2.52e-02  -3.8 1.56e-01    -  1.00e+00 6.68e-02f  4\n",
      "  13 -2.1274180e+00 0.00e+00 4.47e-06  -3.8 8.59e-03    -  1.00e+00 1.00e+00f  1\n",
      "  14 -2.1281587e+00 0.00e+00 1.99e-04  -5.7 1.83e-03  -1.0 1.00e+00 1.00e+00f  1\n",
      "  15 -2.1281598e+00 0.00e+00 2.90e-07  -5.7 8.02e-06  -1.4 1.00e+00 1.00e+00f  1\n",
      "  16 -2.1281690e+00 0.00e+00 3.71e-09  -8.6 2.02e-03    -  9.96e-01 9.96e-01f  1\n",
      "  17 -2.1281691e+00 0.00e+00 4.95e-10  -9.0 4.11e-08  -1.9 1.00e+00 1.00e+00f  1\n",
      "\n",
      "Number of Iterations....: 17\n",
      "\n",
      "                                   (scaled)                 (unscaled)\n",
      "Objective...............:  -2.1281690538604066e+00   -2.1281690538604066e+00\n",
      "Dual infeasibility......:   4.9505938237714986e-10    4.9505938237714986e-10\n",
      "Constraint violation....:   0.0000000000000000e+00    0.0000000000000000e+00\n",
      "Complementarity.........:   9.0909160736667987e-10    9.0909160736667987e-10\n",
      "Overall NLP error.......:   9.0909160736667987e-10    9.0909160736667987e-10\n",
      "\n",
      "\n",
      "Number of objective function evaluations             = 30\n",
      "Number of objective gradient evaluations             = 18\n",
      "Number of equality constraint evaluations            = 30\n",
      "Number of inequality constraint evaluations          = 0\n",
      "Number of equality constraint Jacobian evaluations   = 18\n",
      "Number of inequality constraint Jacobian evaluations = 0\n",
      "Number of Lagrangian Hessian evaluations             = 17\n",
      "Total CPU secs in IPOPT (w/o function evaluations)   =      0.018\n",
      "Total CPU secs in NLP function evaluations           =      0.002\n",
      "\n",
      "EXIT: Optimal Solution Found.\n",
      "      solver  :   t_proc      (avg)   t_wall      (avg)    n_eval\n",
      "       nlp_f  | 201.00us (  6.70us) 215.00us (  7.17us)        30\n",
      "       nlp_g  | 115.00us (  3.83us) 143.00us (  4.77us)        30\n",
      "  nlp_grad_f  | 319.00us ( 16.79us) 354.00us ( 18.63us)        19\n",
      "  nlp_hess_l  |   1.14ms ( 67.12us)   1.45ms ( 85.47us)        17\n",
      "   nlp_jac_g  |  74.00us (  3.89us)  65.00us (  3.42us)        19\n",
      "       total  |  35.47ms ( 35.47ms)  84.68ms ( 84.68ms)         1\n"
     ]
    }
   ],
   "source": [
    "optimal_design = nl.Design(linear_model, nominal_param, objective, continuous_inputs=continuous_inputs)"
   ]
  },
  {
   "cell_type": "markdown",
   "id": "foreign-emission",
   "metadata": {},
   "source": [
    "### Viewing the Resulting Design\n",
    "\n",
    "Once the Design object is created, the object instnace contains in it an optimal relaxed design which serves as an archetype for the given model and design scenario. Relaxed design's do not specify a specific sample size as they use real-valued weights to indicated the number of observations to be taken in a given set of conditions. However, somtimes it is useful to view the relaxed design and its corresponding weights as follows using the *.relaxed()* function:"
   ]
  },
  {
   "cell_type": "code",
   "execution_count": 5,
   "id": "cognitive-marriage",
   "metadata": {},
   "outputs": [
    {
     "data": {
      "text/html": [
       "<div>\n",
       "<style scoped>\n",
       "    .dataframe tbody tr th:only-of-type {\n",
       "        vertical-align: middle;\n",
       "    }\n",
       "\n",
       "    .dataframe tbody tr th {\n",
       "        vertical-align: top;\n",
       "    }\n",
       "\n",
       "    .dataframe thead th {\n",
       "        text-align: right;\n",
       "    }\n",
       "</style>\n",
       "<table border=\"1\" class=\"dataframe\">\n",
       "  <thead>\n",
       "    <tr style=\"text-align: right;\">\n",
       "      <th></th>\n",
       "      <th>Input_x1</th>\n",
       "      <th>Input_x2</th>\n",
       "      <th>Variable</th>\n",
       "      <th>Weights</th>\n",
       "    </tr>\n",
       "  </thead>\n",
       "  <tbody>\n",
       "    <tr>\n",
       "      <th>0</th>\n",
       "      <td>-1.0</td>\n",
       "      <td>-0.615089</td>\n",
       "      <td>Observable_y</td>\n",
       "      <td>0.333333</td>\n",
       "    </tr>\n",
       "    <tr>\n",
       "      <th>1</th>\n",
       "      <td>1.0</td>\n",
       "      <td>1.000000</td>\n",
       "      <td>Observable_y</td>\n",
       "      <td>0.333333</td>\n",
       "    </tr>\n",
       "    <tr>\n",
       "      <th>2</th>\n",
       "      <td>1.0</td>\n",
       "      <td>-1.000000</td>\n",
       "      <td>Observable_y</td>\n",
       "      <td>0.333333</td>\n",
       "    </tr>\n",
       "  </tbody>\n",
       "</table>\n",
       "</div>"
      ],
      "text/plain": [
       "   Input_x1  Input_x2      Variable   Weights\n",
       "0      -1.0 -0.615089  Observable_y  0.333333\n",
       "1       1.0  1.000000  Observable_y  0.333333\n",
       "2       1.0 -1.000000  Observable_y  0.333333"
      ]
     },
     "execution_count": 5,
     "metadata": {},
     "output_type": "execute_result"
    }
   ],
   "source": [
    "optimal_design.relaxed()"
   ]
  },
  {
   "cell_type": "markdown",
   "id": "infinite-drill",
   "metadata": {},
   "source": [
    "In order to generate an implementable design, the relaxed design needs to be rounded to an exact design. This can be done using the Desin class's *.round()* function as follows:"
   ]
  },
  {
   "cell_type": "code",
   "execution_count": 6,
   "id": "written-revolution",
   "metadata": {},
   "outputs": [
    {
     "data": {
      "text/html": [
       "<div>\n",
       "<style scoped>\n",
       "    .dataframe tbody tr th:only-of-type {\n",
       "        vertical-align: middle;\n",
       "    }\n",
       "\n",
       "    .dataframe tbody tr th {\n",
       "        vertical-align: top;\n",
       "    }\n",
       "\n",
       "    .dataframe thead th {\n",
       "        text-align: right;\n",
       "    }\n",
       "</style>\n",
       "<table border=\"1\" class=\"dataframe\">\n",
       "  <thead>\n",
       "    <tr style=\"text-align: right;\">\n",
       "      <th></th>\n",
       "      <th>Input_x1</th>\n",
       "      <th>Input_x2</th>\n",
       "      <th>Variable</th>\n",
       "      <th>Replicates</th>\n",
       "    </tr>\n",
       "  </thead>\n",
       "  <tbody>\n",
       "    <tr>\n",
       "      <th>0</th>\n",
       "      <td>-1.0</td>\n",
       "      <td>-0.615089</td>\n",
       "      <td>Observable_y</td>\n",
       "      <td>3</td>\n",
       "    </tr>\n",
       "    <tr>\n",
       "      <th>1</th>\n",
       "      <td>1.0</td>\n",
       "      <td>1.000000</td>\n",
       "      <td>Observable_y</td>\n",
       "      <td>3</td>\n",
       "    </tr>\n",
       "    <tr>\n",
       "      <th>2</th>\n",
       "      <td>1.0</td>\n",
       "      <td>-1.000000</td>\n",
       "      <td>Observable_y</td>\n",
       "      <td>3</td>\n",
       "    </tr>\n",
       "  </tbody>\n",
       "</table>\n",
       "</div>"
      ],
      "text/plain": [
       "   Input_x1  Input_x2      Variable  Replicates\n",
       "0      -1.0 -0.615089  Observable_y           3\n",
       "1       1.0  1.000000  Observable_y           3\n",
       "2       1.0 -1.000000  Observable_y           3"
      ]
     },
     "execution_count": 6,
     "metadata": {},
     "output_type": "execute_result"
    }
   ],
   "source": [
    "sample_size = 9\n",
    "optimal_design.round(sample_size)"
   ]
  },
  {
   "cell_type": "markdown",
   "id": "deadly-insurance",
   "metadata": {},
   "source": [
    "The returned objects for the both the *.relaxed()* and *.round()* functions are dataframes making them easy to export to Excel or text files. The dataframes containing designs can also be used as input to user-callable functions of NLoed's Model class for data simulation and evauation of design performance on various metrics. See the other notebook examples for more details."
   ]
  }
 ],
 "metadata": {
  "kernelspec": {
   "display_name": "Python 3",
   "language": "python",
   "name": "python3"
  },
  "language_info": {
   "codemirror_mode": {
    "name": "ipython",
    "version": 3
   },
   "file_extension": ".py",
   "mimetype": "text/x-python",
   "name": "python",
   "nbconvert_exporter": "python",
   "pygments_lexer": "ipython3",
   "version": "3.7.6"
  }
 },
 "nbformat": 4,
 "nbformat_minor": 5
}
