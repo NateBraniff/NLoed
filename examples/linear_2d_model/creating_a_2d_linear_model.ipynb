{
 "cells": [
  {
   "cell_type": "markdown",
   "id": "dress-mixture",
   "metadata": {},
   "source": [
    "# Simple Linear Model\n",
    "\n",
    "This example explains how to create a simple linear model using NLoed's Model class. We start by importing the NLoed and CasADi:"
   ]
  },
  {
   "cell_type": "code",
   "execution_count": 1,
   "id": "ceramic-taylor",
   "metadata": {},
   "outputs": [],
   "source": [
    "import nloed as nl\n",
    "import casadi as cs"
   ]
  },
  {
   "cell_type": "markdown",
   "id": "peaceful-luther",
   "metadata": {},
   "source": [
    "### Create the Casadi Symbols for the Model\n",
    "\n",
    "We start by expressing the model equations in Casadi's SX symbols. The equation we want to implement is:\n",
    "\n",
    "$\\hat{y} = \\beta_{0} + \\beta_{1} x_{1} + \\beta_{2} x_{2}$\n",
    "\n",
    "We first need to creat symbols for the inputs, $x_i$, and the parameters $\\beta_j$. This can be done as follows:"
   ]
  },
  {
   "cell_type": "code",
   "execution_count": 2,
   "id": "consecutive-damages",
   "metadata": {},
   "outputs": [],
   "source": [
    "x = cs.SX.sym('X',2)\n",
    "beta = cs.SX.sym('beta',3)"
   ]
  },
  {
   "cell_type": "markdown",
   "id": "soviet-irrigation",
   "metadata": {},
   "source": [
    "Write the equation:"
   ]
  },
  {
   "cell_type": "code",
   "execution_count": 3,
   "id": "elect-right",
   "metadata": {},
   "outputs": [],
   "source": [
    "y_mean = beta[0] + beta[1]*x[0] + beta[2]*x[1] "
   ]
  },
  {
   "cell_type": "code",
   "execution_count": 4,
   "id": "returning-wisdom",
   "metadata": {},
   "outputs": [],
   "source": [
    "y_var = 0.1\n",
    "y_stats = cs.vertcat(y_mean, y_var)"
   ]
  },
  {
   "cell_type": "markdown",
   "id": "informational-rough",
   "metadata": {},
   "source": [
    "Name the inputs and paramers"
   ]
  },
  {
   "cell_type": "code",
   "execution_count": 5,
   "id": "electoral-nevada",
   "metadata": {},
   "outputs": [],
   "source": [
    "input_names = ['Input1','Input2']\n",
    "param_names = ['Intercept','Slope1','Slope2']"
   ]
  },
  {
   "cell_type": "markdown",
   "id": "lined-lawrence",
   "metadata": {},
   "source": [
    "create Casadi function and observation struct, observations are named by the strings entered in the struct"
   ]
  },
  {
   "cell_type": "code",
   "execution_count": 6,
   "id": "prime-steel",
   "metadata": {},
   "outputs": [],
   "source": [
    "y_func = cs.Function('y',[x,beta],[y_stats])\n",
    "observ_list = [(y_func,'Normal')]"
   ]
  },
  {
   "cell_type": "markdown",
   "id": "virtual-appeal",
   "metadata": {},
   "source": [
    "create the NLoed Model instance"
   ]
  },
  {
   "cell_type": "code",
   "execution_count": 7,
   "id": "alpha-briefs",
   "metadata": {},
   "outputs": [],
   "source": [
    "linear_model = nl.Model(observ_list,input_names,param_names)"
   ]
  }
 ],
 "metadata": {
  "kernelspec": {
   "display_name": "Python 3",
   "language": "python",
   "name": "python3"
  },
  "language_info": {
   "codemirror_mode": {
    "name": "ipython",
    "version": 3
   },
   "file_extension": ".py",
   "mimetype": "text/x-python",
   "name": "python",
   "nbconvert_exporter": "python",
   "pygments_lexer": "ipython3",
   "version": "3.7.6"
  }
 },
 "nbformat": 4,
 "nbformat_minor": 5
}
