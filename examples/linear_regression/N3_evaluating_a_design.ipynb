{
 "cells": [
  {
   "cell_type": "markdown",
   "id": "packed-sharing",
   "metadata": {},
   "source": [
    "# Evaluating a Design for the 2-Input Linear Regression Model\n",
    "\n",
    "In this example, we assume you have encoded an NLoed model and generated an optimal design. Before implementing the design you may wish to get a better and more interpretable understanding of its expected performance.\n",
    "\n",
    "To begin we import the results for the *N2_design_optimization* notebook:"
   ]
  },
  {
   "cell_type": "code",
   "execution_count": null,
   "id": "motivated-skating",
   "metadata": {},
   "outputs": [],
   "source": [
    "from scripts.N2_design_optimization import *"
   ]
  },
  {
   "cell_type": "code",
   "execution_count": null,
   "id": "instant-accident",
   "metadata": {},
   "outputs": [],
   "source": []
  },
  {
   "cell_type": "code",
   "execution_count": null,
   "id": "desirable-alarm",
   "metadata": {},
   "outputs": [],
   "source": []
  },
  {
   "cell_type": "code",
   "execution_count": null,
   "id": "accepting-packet",
   "metadata": {},
   "outputs": [],
   "source": []
  },
  {
   "cell_type": "code",
   "execution_count": null,
   "id": "sufficient-franchise",
   "metadata": {},
   "outputs": [],
   "source": []
  },
  {
   "cell_type": "code",
   "execution_count": null,
   "id": "western-better",
   "metadata": {},
   "outputs": [],
   "source": []
  },
  {
   "cell_type": "code",
   "execution_count": null,
   "id": "apparent-walter",
   "metadata": {},
   "outputs": [],
   "source": []
  },
  {
   "cell_type": "code",
   "execution_count": null,
   "id": "bigger-torture",
   "metadata": {},
   "outputs": [],
   "source": []
  }
 ],
 "metadata": {
  "kernelspec": {
   "display_name": "Python 3",
   "language": "python",
   "name": "python3"
  },
  "language_info": {
   "codemirror_mode": {
    "name": "ipython",
    "version": 3
   },
   "file_extension": ".py",
   "mimetype": "text/x-python",
   "name": "python",
   "nbconvert_exporter": "python",
   "pygments_lexer": "ipython3",
   "version": "3.7.6"
  }
 },
 "nbformat": 4,
 "nbformat_minor": 5
}
