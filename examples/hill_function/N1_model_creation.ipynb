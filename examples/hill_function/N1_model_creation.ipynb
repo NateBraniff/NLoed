{
 "cells": [
  {
   "cell_type": "markdown",
   "id": "certain-booth",
   "metadata": {},
   "source": [
    "# Creating a Simple Hill Function Model\n",
    "\n"
   ]
  },
  {
   "cell_type": "code",
   "execution_count": 8,
   "id": "impossible-audit",
   "metadata": {},
   "outputs": [],
   "source": [
    "import nloed as nl\n",
    "import casadi as cs"
   ]
  },
  {
   "cell_type": "markdown",
   "id": "ideal-anthony",
   "metadata": {},
   "source": [
    "### Model Expressions and Parameterization"
   ]
  },
  {
   "cell_type": "code",
   "execution_count": 9,
   "id": "different-pasta",
   "metadata": {},
   "outputs": [],
   "source": [
    "x = cs.SX.sym('x',1)\n",
    "p = cs.SX.sym('p',4)"
   ]
  },
  {
   "cell_type": "markdown",
   "id": "broken-numbers",
   "metadata": {},
   "source": []
  },
  {
   "cell_type": "code",
   "execution_count": 10,
   "id": "initial-transcription",
   "metadata": {},
   "outputs": [],
   "source": [
    "alpha_0 = cs.exp(p[0])\n",
    "alpha = cs.exp(p[1])\n",
    "K = cs.exp(p[2])\n",
    "n = cs.exp(p[3])"
   ]
  },
  {
   "cell_type": "markdown",
   "id": "biological-version",
   "metadata": {},
   "source": []
  },
  {
   "cell_type": "code",
   "execution_count": 11,
   "id": "grateful-gospel",
   "metadata": {},
   "outputs": [],
   "source": [
    "mean = alpha_0 + alpha*x[0]**n / (K**n + x[0]**n)"
   ]
  },
  {
   "cell_type": "markdown",
   "id": "purple-roberts",
   "metadata": {},
   "source": []
  },
  {
   "cell_type": "code",
   "execution_count": 12,
   "id": "assisted-cover",
   "metadata": {},
   "outputs": [],
   "source": [
    "var = 0.01*mean"
   ]
  },
  {
   "cell_type": "markdown",
   "id": "funny-muslim",
   "metadata": {},
   "source": [
    "### Preparing to Call the NLoed Model Constructor"
   ]
  },
  {
   "cell_type": "code",
   "execution_count": 13,
   "id": "domestic-accordance",
   "metadata": {},
   "outputs": [],
   "source": [
    "normal_stats = cs.vertcat(mean, var)\n",
    "response_func = cs.Function('Response',[x,p],[normal_stats])"
   ]
  },
  {
   "cell_type": "markdown",
   "id": "flying-error",
   "metadata": {},
   "source": []
  },
  {
   "cell_type": "code",
   "execution_count": 14,
   "id": "cultural-piece",
   "metadata": {},
   "outputs": [],
   "source": [
    "xnames = ['Inducer']\n",
    "pnames = ['Basal','Rate','Hill','HalfConst']\n",
    "observ_list = [(response_func,'Normal')]\n",
    "hill_model = nl.Model(observ_list,xnames,pnames)"
   ]
  },
  {
   "cell_type": "markdown",
   "id": "pointed-vertex",
   "metadata": {},
   "source": []
  }
 ],
 "metadata": {
  "kernelspec": {
   "display_name": "Python 3",
   "language": "python",
   "name": "python3"
  },
  "language_info": {
   "codemirror_mode": {
    "name": "ipython",
    "version": 3
   },
   "file_extension": ".py",
   "mimetype": "text/x-python",
   "name": "python",
   "nbconvert_exporter": "python",
   "pygments_lexer": "ipython3",
   "version": "3.7.6"
  }
 },
 "nbformat": 4,
 "nbformat_minor": 5
}
