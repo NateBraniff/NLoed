{
 "cells": [
  {
   "cell_type": "markdown",
   "id": "certain-booth",
   "metadata": {},
   "source": [
    "# Creating a Simple Hill Function Model\n",
    "\n"
   ]
  },
  {
   "cell_type": "code",
   "execution_count": 8,
   "id": "impossible-audit",
   "metadata": {},
   "outputs": [],
   "source": [
    "#import nloed and casadi\n",
    "import nloed as nl\n",
    "import casadi as cs"
   ]
  },
  {
   "cell_type": "markdown",
   "id": "ideal-anthony",
   "metadata": {},
   "source": [
    "### Model Parameterization and Equations"
   ]
  },
  {
   "cell_type": "code",
   "execution_count": 9,
   "id": "different-pasta",
   "metadata": {},
   "outputs": [],
   "source": [
    "#create symbol for the model input\n",
    "x = cs.SX.sym('x',1)\n",
    "#create symbols for the model parameters\n",
    "p = cs.SX.sym('p',4)"
   ]
  },
  {
   "cell_type": "code",
   "execution_count": 10,
   "id": "initial-transcription",
   "metadata": {},
   "outputs": [],
   "source": [
    "#use parameter transformation to ensure named parameter remain positive\n",
    "#we will fit and design for fitting p, which is exponent of the 'natural' parameters\n",
    "alpha_0 = cs.exp(p[0])\n",
    "alpha = cs.exp(p[1])\n",
    "K = cs.exp(p[2])\n",
    "n = cs.exp(p[3])"
   ]
  },
  {
   "cell_type": "code",
   "execution_count": 11,
   "id": "grateful-gospel",
   "metadata": {},
   "outputs": [],
   "source": [
    "#write a symbolic expression for the model, predicting mean observations from input and parameters\n",
    "mean = alpha_0 + alpha*x[0]**n / (K**n + x[0]**n)"
   ]
  },
  {
   "cell_type": "code",
   "execution_count": 12,
   "id": "assisted-cover",
   "metadata": {},
   "outputs": [],
   "source": [
    "#create an symbolic expression for the variance of the observations\n",
    "#here variance is assumed to be proportional to the mean i.e. hetroskedastic\n",
    "var = 0.01*mean"
   ]
  },
  {
   "cell_type": "markdown",
   "id": "funny-muslim",
   "metadata": {},
   "source": [
    "### Preparing to Call the NLoed Model Constructor"
   ]
  },
  {
   "cell_type": "code",
   "execution_count": 13,
   "id": "domestic-accordance",
   "metadata": {},
   "outputs": [],
   "source": [
    "#group the mean and variance into a single vecotor\n",
    "normal_stats = cs.vertcat(mean, var)\n",
    "#create a CasADi function to predict the mean and variance of the observation from the input and parameters\n",
    "model_function = cs.Function('Observation',[x,p],[normal_stats])"
   ]
  },
  {
   "cell_type": "code",
   "execution_count": 14,
   "id": "cultural-piece",
   "metadata": {},
   "outputs": [],
   "source": [
    "#list user-chosen names of model inputs (only one in this example)\n",
    "xnames = ['Inducer']\n",
    "#list user-chosen names of parameters, log_ prefix is to remind us of transformation\n",
    "pnames = ['log_Basal','log_Rate','log_Hill','log_HalfConst']\n",
    "#create a list of model observation variable (only one)\n",
    "#the single list element is a tuple of the model function and a lable indicating the distribution type\n",
    "observ_list = [(model_function,'Normal')]\n",
    "#create the NLoed model using the Model constructor\n",
    "hill_model = nl.Model(observ_list,xnames,pnames)"
   ]
  }
 ],
 "metadata": {
  "kernelspec": {
   "name": "python376jvsc74a57bd0e3068e0c69846ff1dba77e97005419116c8fbd85cab8336137aaaaf8082177f0",
   "display_name": "Python 3.7.6 64-bit ('NLoed': pyenv)"
  },
  "language_info": {
   "codemirror_mode": {
    "name": "ipython",
    "version": 3
   },
   "file_extension": ".py",
   "mimetype": "text/x-python",
   "name": "python",
   "nbconvert_exporter": "python",
   "pygments_lexer": "ipython3",
   "version": "3.7.6"
  }
 },
 "nbformat": 4,
 "nbformat_minor": 5
}