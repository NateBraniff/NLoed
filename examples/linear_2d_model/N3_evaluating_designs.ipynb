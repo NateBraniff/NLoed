{
 "cells": [
  {
   "cell_type": "markdown",
   "id": "packed-sharing",
   "metadata": {},
   "source": [
    "# Evaluating Design Performance\n",
    "\n",
    "In this example, we assume you have encoded an NLoed model and generated an optimal design. Before implementing the design you may wish to get a better and more interpretable understanding of its expected performance.\n",
    "\n",
    "To begin we import the results for the *N2_design_optimization* notebook:"
   ]
  },
  {
   "cell_type": "code",
   "execution_count": null,
   "id": "motivated-skating",
   "metadata": {},
   "outputs": [],
   "source": [
    "from scripts.N2_design_optimization import *"
   ]
  }
 ],
 "metadata": {
  "kernelspec": {
   "display_name": "Python 3",
   "language": "python",
   "name": "python3"
  },
  "language_info": {
   "codemirror_mode": {
    "name": "ipython",
    "version": 3
   },
   "file_extension": ".py",
   "mimetype": "text/x-python",
   "name": "python",
   "nbconvert_exporter": "python",
   "pygments_lexer": "ipython3",
   "version": "3.7.6"
  }
 },
 "nbformat": 4,
 "nbformat_minor": 5
}
