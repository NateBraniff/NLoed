{
 "cells": [
  {
   "cell_type": "markdown",
   "id": "applicable-steps",
   "metadata": {},
   "source": [
    "# Design Evaluations and Model Predictions for the Hill Function Model\n"
   ]
  },
  {
   "cell_type": "code",
   "execution_count": 2,
   "id": "undefined-integration",
   "metadata": {},
   "outputs": [
    {
     "name": "stdout",
     "output_type": "stream",
     "text": [
      "\n",
      "******************************************************************************\n",
      "This program contains Ipopt, a library for large-scale nonlinear optimization.\n",
      " Ipopt is released as open source code under the Eclipse Public License (EPL).\n",
      "         For more information visit http://projects.coin-or.org/Ipopt\n",
      "******************************************************************************\n",
      "\n",
      "This is Ipopt version 3.12.3, running with linear solver mumps.\n",
      "NOTE: Other linear solvers might be more efficient (see Ipopt documentation).\n",
      "\n",
      "Number of nonzeros in equality constraint Jacobian...:        4\n",
      "Number of nonzeros in inequality constraint Jacobian.:        0\n",
      "Number of nonzeros in Lagrangian Hessian.............:       36\n",
      "\n",
      "Total number of variables............................:        8\n",
      "                     variables with only lower bounds:        0\n",
      "                variables with lower and upper bounds:        8\n",
      "                     variables with only upper bounds:        0\n",
      "Total number of equality constraints.................:        1\n",
      "Total number of inequality constraints...............:        0\n",
      "        inequality constraints with only lower bounds:        0\n",
      "   inequality constraints with lower and upper bounds:        0\n",
      "        inequality constraints with only upper bounds:        0\n",
      "\n",
      "iter    objective    inf_pr   inf_du lg(mu)  ||d||  lg(rg) alpha_du alpha_pr  ls\n",
      "   0 -1.4776608e+00 0.00e+00 2.01e+00  -1.0 0.00e+00    -  0.00e+00 0.00e+00   0\n",
      "   1 -1.8976757e+00 1.11e-16 3.30e-01  -1.0 4.71e-01    -  8.97e-01 9.00e-01f  1\n",
      "   2 -2.0939629e+00 0.00e+00 1.23e+00  -1.7 6.22e-01    -  8.83e-01 1.00e+00f  1\n",
      "   3 -2.1301789e+00 0.00e+00 9.65e-02  -1.7 2.16e-01    -  9.92e-01 1.00e+00f  1\n",
      "   4 -2.1598174e+00 0.00e+00 7.01e-03  -2.5 1.11e-01    -  1.00e+00 1.00e+00f  1\n",
      "   5 -2.1660334e+00 0.00e+00 2.63e-05  -3.8 2.57e-02    -  1.00e+00 1.00e+00f  1\n",
      "   6 -2.1663678e+00 0.00e+00 3.55e-07  -5.7 1.45e-03    -  1.00e+00 1.00e+00f  1\n",
      "   7 -2.1663717e+00 0.00e+00 5.29e-11  -8.6 1.49e-05    -  1.00e+00 1.00e+00f  1\n",
      "\n",
      "Number of Iterations....: 7\n",
      "\n",
      "                                   (scaled)                 (unscaled)\n",
      "Objective...............:  -2.1663716520898877e+00   -2.1663716520898877e+00\n",
      "Dual infeasibility......:   5.2913865521753403e-11    5.2913865521753403e-11\n",
      "Constraint violation....:   0.0000000000000000e+00    0.0000000000000000e+00\n",
      "Complementarity.........:   2.5257427625317090e-09    2.5257427625317090e-09\n",
      "Overall NLP error.......:   2.5257427625317090e-09    2.5257427625317090e-09\n",
      "\n",
      "\n",
      "Number of objective function evaluations             = 8\n",
      "Number of objective gradient evaluations             = 8\n",
      "Number of equality constraint evaluations            = 8\n",
      "Number of inequality constraint evaluations          = 0\n",
      "Number of equality constraint Jacobian evaluations   = 8\n",
      "Number of inequality constraint Jacobian evaluations = 0\n",
      "Number of Lagrangian Hessian evaluations             = 7\n",
      "Total CPU secs in IPOPT (w/o function evaluations)   =      0.006\n",
      "Total CPU secs in NLP function evaluations           =      0.002\n",
      "\n",
      "EXIT: Optimal Solution Found.\n",
      "      solver  :   t_proc      (avg)   t_wall      (avg)    n_eval\n",
      "       nlp_f  |  76.00us (  9.50us)  77.00us (  9.62us)         8\n",
      "       nlp_g  |  33.00us (  4.13us)  33.00us (  4.13us)         8\n",
      "  nlp_grad_f  | 532.00us ( 59.11us)   1.17ms (129.56us)         9\n",
      "  nlp_hess_l  |   1.56ms (222.86us)   1.56ms (223.14us)         7\n",
      "   nlp_jac_g  |  47.00us (  5.22us)  39.00us (  4.33us)         9\n",
      "       total  |  18.34ms ( 18.34ms)  53.60ms ( 53.60ms)         1\n",
      "Sampling Datasets: |██████████████████████████████████████████████████| 100.0%\n",
      "     Inducer  Variable  Observation\n",
      "0   0.420383  Response     1.895893\n",
      "1   0.420383  Response     1.708747\n",
      "2   0.420383  Response     1.865897\n",
      "3   0.420383  Response     1.940642\n",
      "4   0.420383  Response     1.789306\n",
      "5   0.420383  Response     2.007227\n",
      "6   0.420383  Response     1.752770\n",
      "7   0.420383  Response     1.941453\n",
      "8   0.420383  Response     1.719741\n",
      "9   0.420383  Response     1.964900\n",
      "10  0.420383  Response     1.724543\n",
      "11  0.420383  Response     1.970557\n",
      "12  1.818286  Response     3.263482\n",
      "13  1.818286  Response     3.465280\n",
      "14  1.818286  Response     3.737552\n",
      "15  1.818286  Response     3.360327\n",
      "16  1.818286  Response     3.469635\n",
      "17  1.818286  Response     3.448156\n",
      "18  1.818286  Response     3.148413\n",
      "19  1.818286  Response     3.261776\n",
      "20  1.818286  Response     3.247529\n",
      "21  1.818286  Response     3.551166\n",
      "22  1.818286  Response     3.409552\n",
      "23  1.818286  Response     2.990813\n",
      "24  5.000000  Response     4.755972\n",
      "25  5.000000  Response     4.485561\n",
      "26  5.000000  Response     4.418797\n",
      "27  5.000000  Response     4.733416\n",
      "28  5.000000  Response     4.348678\n",
      "29  5.000000  Response     4.289415\n",
      "30  5.000000  Response     4.258626\n",
      "31  5.000000  Response     4.667336\n",
      "32  5.000000  Response     4.203542\n",
      "33  5.000000  Response     4.868997\n",
      "34  5.000000  Response     4.651683\n",
      "35  5.000000  Response     4.817081\n",
      "36  0.100000  Response     1.091647\n",
      "37  0.100000  Response     1.242012\n",
      "38  0.100000  Response     1.232665\n",
      "39  0.100000  Response     1.218761\n",
      "40  0.100000  Response     1.272662\n",
      "41  0.100000  Response     1.298875\n",
      "42  0.100000  Response     1.288406\n",
      "43  0.100000  Response     1.117668\n",
      "44  0.100000  Response     1.204869\n",
      "45  0.100000  Response     1.291741\n",
      "46  0.100000  Response     1.347523\n",
      "47  0.100000  Response     1.342451\n",
      "Fitting Dataset(s): |██████████████████████████████████████████████████| 100.0%\n",
      "Computing confidence information for replicat: 0\n",
      "Profile Traces: |██████████████████████████████████████████████████| 100.0%\n"
     ]
    },
    {
     "data": {
      "image/png": "[encoded data removed]",
      "text/plain": [
       "<Figure size 432x288 with 10 Axes>"
      ]
     },
     "metadata": {
      "needs_background": "light"
     },
     "output_type": "display_data"
    },
    {
     "name": "stdout",
     "output_type": "stream",
     "text": [
      "Parameter     Basal      Rate      Hill  HalfConst\n",
      "0          0.026344  1.580904  0.670696   0.026742\n",
      "Parameter     Basal      Rate      Hill  HalfConst\n",
      "0         -0.726053  1.326128  0.231857  -0.629877\n",
      "Parameter     Basal      Rate      Hill  HalfConst\n",
      "0          0.216344  2.554918  3.044275    0.35465\n",
      "[1.02669454 4.85934529 1.95559884 1.02710241]\n",
      "[1. 5. 2. 1.]\n"
     ]
    }
   ],
   "source": [
    "#%%capture\n",
    "import pandas as pd\n",
    "import matplotlib.pyplot as plt\n",
    "from scripts.N3_sampling_and_fitting import *"
   ]
  },
  {
   "cell_type": "markdown",
   "id": "lightweight-reunion",
   "metadata": {},
   "source": [
    "### Evaluating the Optimized Design"
   ]
  },
  {
   "cell_type": "code",
   "execution_count": null,
   "id": "exterior-tanzania",
   "metadata": {},
   "outputs": [],
   "source": []
  },
  {
   "cell_type": "code",
   "execution_count": null,
   "id": "weekly-racing",
   "metadata": {},
   "outputs": [],
   "source": []
  },
  {
   "cell_type": "markdown",
   "id": "loved-ministry",
   "metadata": {},
   "source": [
    "### Asymptotic Covariance and Confidence Intervals"
   ]
  },
  {
   "cell_type": "code",
   "execution_count": 3,
   "id": "disturbed-credits",
   "metadata": {},
   "outputs": [
    {
     "name": "stdout",
     "output_type": "stream",
     "text": [
      "          Covariance                              \n",
      "               Basal      Rate      Hill HalfConst\n",
      "Basal       0.007685 -0.008469 -0.011618  0.010248\n",
      "Rate       -0.008469  0.014669  0.025006 -0.015291\n",
      "Hill       -0.011618  0.025006  0.046414 -0.024923\n",
      "HalfConst   0.010248 -0.015291 -0.024923  0.017466\n"
     ]
    }
   ],
   "source": [
    "eval_options={'Method':'Asymptotic',\n",
    "              'Covariance':True}\n",
    "asymptotic_covariance = hill_model.evaluate(exact_design,fit_params,eval_options)\n",
    "print(asymptotic_covariance)"
   ]
  },
  {
   "cell_type": "code",
   "execution_count": 23,
   "id": "located-variance",
   "metadata": {},
   "outputs": [
    {
     "name": "stdout",
     "output_type": "stream",
     "text": [
      "\n",
      "           Lower  Estimate     Upper\n",
      "Alpha0  0.953863  1.123902  1.324253\n",
      "Alpha   3.444609  4.357886  5.513303\n",
      "n       1.143471  1.682639  2.476035\n",
      "K       0.895208  1.209573  1.634330\n",
      "\n"
     ]
    }
   ],
   "source": [
    "asymptotic_lower_bound = fit_params - 2*np.sqrt(np.diag(asymptotic_covariance))\n",
    "asymptotic_upper_bound = fit_params + 2*np.sqrt(np.diag(asymptotic_covariance))\n",
    "\n",
    "fim_bnds_array = np.vstack((asymptotic_lower_bound,\n",
    "                            fit_params,\n",
    "                            asymptotic_upper_bound)).T\n",
    "fim_bnds0 = pd.DataFrame(np.exp(fim_bnds_array),\n",
    "                        index=['Alpha0','Alpha','n','K'],\n",
    "                        columns=['Lower','Estimate','Upper'])\n",
    "print('')\n",
    "print(fim_bnds0)\n",
    "print('')"
   ]
  },
  {
   "cell_type": "markdown",
   "id": "historical-teaching",
   "metadata": {},
   "source": [
    "### Model Predictions"
   ]
  },
  {
   "cell_type": "code",
   "execution_count": 24,
   "id": "unavailable-dependence",
   "metadata": {},
   "outputs": [],
   "source": [
    "#convert the covariance matrix to numpy\n",
    "covariance_matrix = asymptotic_covariance.to_numpy()\n",
    "#generate predictions with error bars fdor a random selection of inputs)\n",
    "prediction_inputs = pd.DataFrame({'Inducer':np.linspace(0.1,10,100),\n",
    "                                  'Variable':['Response']*100})\n",
    "#request prediction and observation intervals\n",
    "prediction_options = {'PredictionInterval':True,\n",
    "                      'ObservationInterval':True}\n",
    "#generate predictions and intervals\n",
    "predictions = hill_model.predict(prediction_inputs,\n",
    "                                   fit_params,\n",
    "                                   covariance_matrix = covariance_matrix,\n",
    "                                   options=prediction_options)\n"
   ]
  },
  {
   "cell_type": "code",
   "execution_count": null,
   "id": "sized-mistress",
   "metadata": {},
   "outputs": [],
   "source": []
  },
  {
   "cell_type": "markdown",
   "id": "hourly-composer",
   "metadata": {},
   "source": [
    "### Plotting Prediction Intervals"
   ]
  },
  {
   "cell_type": "code",
   "execution_count": 25,
   "id": "threaded-channels",
   "metadata": {},
   "outputs": [
    {
     "ename": "KeyError",
     "evalue": "('Inputs', 'Light')",
     "output_type": "error",
     "traceback": [
      "\u001b[0;31m---------------------------------------------------------------------------\u001b[0m",
      "\u001b[0;31mKeyError\u001b[0m                                  Traceback (most recent call last)",
      "\u001b[0;32m~/.pyenv/versions/3.7.6/envs/NLoed/lib/python3.7/site-packages/pandas/core/indexes/base.py\u001b[0m in \u001b[0;36mget_loc\u001b[0;34m(self, key, method, tolerance)\u001b[0m\n\u001b[1;32m   2645\u001b[0m             \u001b[0;32mtry\u001b[0m\u001b[0;34m:\u001b[0m\u001b[0;34m\u001b[0m\u001b[0;34m\u001b[0m\u001b[0m\n\u001b[0;32m-> 2646\u001b[0;31m                 \u001b[0;32mreturn\u001b[0m \u001b[0mself\u001b[0m\u001b[0;34m.\u001b[0m\u001b[0m_engine\u001b[0m\u001b[0;34m.\u001b[0m\u001b[0mget_loc\u001b[0m\u001b[0;34m(\u001b[0m\u001b[0mkey\u001b[0m\u001b[0;34m)\u001b[0m\u001b[0;34m\u001b[0m\u001b[0;34m\u001b[0m\u001b[0m\n\u001b[0m\u001b[1;32m   2647\u001b[0m             \u001b[0;32mexcept\u001b[0m \u001b[0mKeyError\u001b[0m\u001b[0;34m:\u001b[0m\u001b[0;34m\u001b[0m\u001b[0;34m\u001b[0m\u001b[0m\n",
      "\u001b[0;32mpandas/_libs/index.pyx\u001b[0m in \u001b[0;36mpandas._libs.index.IndexEngine.get_loc\u001b[0;34m()\u001b[0m\n",
      "\u001b[0;32mpandas/_libs/index.pyx\u001b[0m in \u001b[0;36mpandas._libs.index.IndexEngine.get_loc\u001b[0;34m()\u001b[0m\n",
      "\u001b[0;32mpandas/_libs/hashtable_class_helper.pxi\u001b[0m in \u001b[0;36mpandas._libs.hashtable.PyObjectHashTable.get_item\u001b[0;34m()\u001b[0m\n",
      "\u001b[0;32mpandas/_libs/hashtable_class_helper.pxi\u001b[0m in \u001b[0;36mpandas._libs.hashtable.PyObjectHashTable.get_item\u001b[0;34m()\u001b[0m\n",
      "\u001b[0;31mKeyError\u001b[0m: 'Light'",
      "\nDuring handling of the above exception, another exception occurred:\n",
      "\u001b[0;31mKeyError\u001b[0m                                  Traceback (most recent call last)",
      "\u001b[0;32mpandas/_libs/index.pyx\u001b[0m in \u001b[0;36mpandas._libs.index.BaseMultiIndexCodesEngine.get_loc\u001b[0;34m()\u001b[0m\n",
      "\u001b[0;32m~/.pyenv/versions/3.7.6/envs/NLoed/lib/python3.7/site-packages/pandas/core/indexes/base.py\u001b[0m in \u001b[0;36mget_loc\u001b[0;34m(self, key, method, tolerance)\u001b[0m\n\u001b[1;32m   2647\u001b[0m             \u001b[0;32mexcept\u001b[0m \u001b[0mKeyError\u001b[0m\u001b[0;34m:\u001b[0m\u001b[0;34m\u001b[0m\u001b[0;34m\u001b[0m\u001b[0m\n\u001b[0;32m-> 2648\u001b[0;31m                 \u001b[0;32mreturn\u001b[0m \u001b[0mself\u001b[0m\u001b[0;34m.\u001b[0m\u001b[0m_engine\u001b[0m\u001b[0;34m.\u001b[0m\u001b[0mget_loc\u001b[0m\u001b[0;34m(\u001b[0m\u001b[0mself\u001b[0m\u001b[0;34m.\u001b[0m\u001b[0m_maybe_cast_indexer\u001b[0m\u001b[0;34m(\u001b[0m\u001b[0mkey\u001b[0m\u001b[0;34m)\u001b[0m\u001b[0;34m)\u001b[0m\u001b[0;34m\u001b[0m\u001b[0;34m\u001b[0m\u001b[0m\n\u001b[0m\u001b[1;32m   2649\u001b[0m         \u001b[0mindexer\u001b[0m \u001b[0;34m=\u001b[0m \u001b[0mself\u001b[0m\u001b[0;34m.\u001b[0m\u001b[0mget_indexer\u001b[0m\u001b[0;34m(\u001b[0m\u001b[0;34m[\u001b[0m\u001b[0mkey\u001b[0m\u001b[0;34m]\u001b[0m\u001b[0;34m,\u001b[0m \u001b[0mmethod\u001b[0m\u001b[0;34m=\u001b[0m\u001b[0mmethod\u001b[0m\u001b[0;34m,\u001b[0m \u001b[0mtolerance\u001b[0m\u001b[0;34m=\u001b[0m\u001b[0mtolerance\u001b[0m\u001b[0;34m)\u001b[0m\u001b[0;34m\u001b[0m\u001b[0;34m\u001b[0m\u001b[0m\n",
      "\u001b[0;32mpandas/_libs/index.pyx\u001b[0m in \u001b[0;36mpandas._libs.index.IndexEngine.get_loc\u001b[0;34m()\u001b[0m\n",
      "\u001b[0;32mpandas/_libs/index.pyx\u001b[0m in \u001b[0;36mpandas._libs.index.IndexEngine.get_loc\u001b[0;34m()\u001b[0m\n",
      "\u001b[0;32mpandas/_libs/hashtable_class_helper.pxi\u001b[0m in \u001b[0;36mpandas._libs.hashtable.PyObjectHashTable.get_item\u001b[0;34m()\u001b[0m\n",
      "\u001b[0;32mpandas/_libs/hashtable_class_helper.pxi\u001b[0m in \u001b[0;36mpandas._libs.hashtable.PyObjectHashTable.get_item\u001b[0;34m()\u001b[0m\n",
      "\u001b[0;31mKeyError\u001b[0m: 'Light'",
      "\nDuring handling of the above exception, another exception occurred:\n",
      "\u001b[0;31mKeyError\u001b[0m                                  Traceback (most recent call last)",
      "\u001b[0;32m<ipython-input-25-8894a6d3a530>\u001b[0m in \u001b[0;36m<module>\u001b[0;34m\u001b[0m\n\u001b[1;32m      2\u001b[0m \u001b[0mfig\u001b[0m\u001b[0;34m,\u001b[0m \u001b[0max\u001b[0m \u001b[0;34m=\u001b[0m \u001b[0mplt\u001b[0m\u001b[0;34m.\u001b[0m\u001b[0msubplots\u001b[0m\u001b[0;34m(\u001b[0m\u001b[0;34m)\u001b[0m\u001b[0;34m\u001b[0m\u001b[0;34m\u001b[0m\u001b[0m\n\u001b[1;32m      3\u001b[0m \u001b[0;31m#plot observation interval\u001b[0m\u001b[0;34m\u001b[0m\u001b[0;34m\u001b[0m\u001b[0;34m\u001b[0m\u001b[0m\n\u001b[0;32m----> 4\u001b[0;31m ax.fill_between(predictions['Inputs','Light'],\n\u001b[0m\u001b[1;32m      5\u001b[0m                 \u001b[0mpredictions\u001b[0m\u001b[0;34m[\u001b[0m\u001b[0;34m'Observation'\u001b[0m\u001b[0;34m,\u001b[0m\u001b[0;34m'Lower'\u001b[0m\u001b[0;34m]\u001b[0m\u001b[0;34m,\u001b[0m\u001b[0;34m\u001b[0m\u001b[0;34m\u001b[0m\u001b[0m\n\u001b[1;32m      6\u001b[0m                 \u001b[0mpredictions\u001b[0m\u001b[0;34m[\u001b[0m\u001b[0;34m'Observation'\u001b[0m\u001b[0;34m,\u001b[0m\u001b[0;34m'Upper'\u001b[0m\u001b[0;34m]\u001b[0m\u001b[0;34m,\u001b[0m\u001b[0;34m\u001b[0m\u001b[0;34m\u001b[0m\u001b[0m\n",
      "\u001b[0;32m~/.pyenv/versions/3.7.6/envs/NLoed/lib/python3.7/site-packages/pandas/core/frame.py\u001b[0m in \u001b[0;36m__getitem__\u001b[0;34m(self, key)\u001b[0m\n\u001b[1;32m   2797\u001b[0m         \u001b[0;32mif\u001b[0m \u001b[0mis_single_key\u001b[0m\u001b[0;34m:\u001b[0m\u001b[0;34m\u001b[0m\u001b[0;34m\u001b[0m\u001b[0m\n\u001b[1;32m   2798\u001b[0m             \u001b[0;32mif\u001b[0m \u001b[0mself\u001b[0m\u001b[0;34m.\u001b[0m\u001b[0mcolumns\u001b[0m\u001b[0;34m.\u001b[0m\u001b[0mnlevels\u001b[0m \u001b[0;34m>\u001b[0m \u001b[0;36m1\u001b[0m\u001b[0;34m:\u001b[0m\u001b[0;34m\u001b[0m\u001b[0;34m\u001b[0m\u001b[0m\n\u001b[0;32m-> 2799\u001b[0;31m                 \u001b[0;32mreturn\u001b[0m \u001b[0mself\u001b[0m\u001b[0;34m.\u001b[0m\u001b[0m_getitem_multilevel\u001b[0m\u001b[0;34m(\u001b[0m\u001b[0mkey\u001b[0m\u001b[0;34m)\u001b[0m\u001b[0;34m\u001b[0m\u001b[0;34m\u001b[0m\u001b[0m\n\u001b[0m\u001b[1;32m   2800\u001b[0m             \u001b[0mindexer\u001b[0m \u001b[0;34m=\u001b[0m \u001b[0mself\u001b[0m\u001b[0;34m.\u001b[0m\u001b[0mcolumns\u001b[0m\u001b[0;34m.\u001b[0m\u001b[0mget_loc\u001b[0m\u001b[0;34m(\u001b[0m\u001b[0mkey\u001b[0m\u001b[0;34m)\u001b[0m\u001b[0;34m\u001b[0m\u001b[0;34m\u001b[0m\u001b[0m\n\u001b[1;32m   2801\u001b[0m             \u001b[0;32mif\u001b[0m \u001b[0mis_integer\u001b[0m\u001b[0;34m(\u001b[0m\u001b[0mindexer\u001b[0m\u001b[0;34m)\u001b[0m\u001b[0;34m:\u001b[0m\u001b[0;34m\u001b[0m\u001b[0;34m\u001b[0m\u001b[0m\n",
      "\u001b[0;32m~/.pyenv/versions/3.7.6/envs/NLoed/lib/python3.7/site-packages/pandas/core/frame.py\u001b[0m in \u001b[0;36m_getitem_multilevel\u001b[0;34m(self, key)\u001b[0m\n\u001b[1;32m   2847\u001b[0m     \u001b[0;32mdef\u001b[0m \u001b[0m_getitem_multilevel\u001b[0m\u001b[0;34m(\u001b[0m\u001b[0mself\u001b[0m\u001b[0;34m,\u001b[0m \u001b[0mkey\u001b[0m\u001b[0;34m)\u001b[0m\u001b[0;34m:\u001b[0m\u001b[0;34m\u001b[0m\u001b[0;34m\u001b[0m\u001b[0m\n\u001b[1;32m   2848\u001b[0m         \u001b[0;31m# self.columns is a MultiIndex\u001b[0m\u001b[0;34m\u001b[0m\u001b[0;34m\u001b[0m\u001b[0;34m\u001b[0m\u001b[0m\n\u001b[0;32m-> 2849\u001b[0;31m         \u001b[0mloc\u001b[0m \u001b[0;34m=\u001b[0m \u001b[0mself\u001b[0m\u001b[0;34m.\u001b[0m\u001b[0mcolumns\u001b[0m\u001b[0;34m.\u001b[0m\u001b[0mget_loc\u001b[0m\u001b[0;34m(\u001b[0m\u001b[0mkey\u001b[0m\u001b[0;34m)\u001b[0m\u001b[0;34m\u001b[0m\u001b[0;34m\u001b[0m\u001b[0m\n\u001b[0m\u001b[1;32m   2850\u001b[0m         \u001b[0;32mif\u001b[0m \u001b[0misinstance\u001b[0m\u001b[0;34m(\u001b[0m\u001b[0mloc\u001b[0m\u001b[0;34m,\u001b[0m \u001b[0;34m(\u001b[0m\u001b[0mslice\u001b[0m\u001b[0;34m,\u001b[0m \u001b[0mSeries\u001b[0m\u001b[0;34m,\u001b[0m \u001b[0mnp\u001b[0m\u001b[0;34m.\u001b[0m\u001b[0mndarray\u001b[0m\u001b[0;34m,\u001b[0m \u001b[0mIndex\u001b[0m\u001b[0;34m)\u001b[0m\u001b[0;34m)\u001b[0m\u001b[0;34m:\u001b[0m\u001b[0;34m\u001b[0m\u001b[0;34m\u001b[0m\u001b[0m\n\u001b[1;32m   2851\u001b[0m             \u001b[0mnew_columns\u001b[0m \u001b[0;34m=\u001b[0m \u001b[0mself\u001b[0m\u001b[0;34m.\u001b[0m\u001b[0mcolumns\u001b[0m\u001b[0;34m[\u001b[0m\u001b[0mloc\u001b[0m\u001b[0;34m]\u001b[0m\u001b[0;34m\u001b[0m\u001b[0;34m\u001b[0m\u001b[0m\n",
      "\u001b[0;32m~/.pyenv/versions/3.7.6/envs/NLoed/lib/python3.7/site-packages/pandas/core/indexes/multi.py\u001b[0m in \u001b[0;36mget_loc\u001b[0;34m(self, key, method)\u001b[0m\n\u001b[1;32m   2670\u001b[0m \u001b[0;34m\u001b[0m\u001b[0m\n\u001b[1;32m   2671\u001b[0m         \u001b[0;32mif\u001b[0m \u001b[0mkeylen\u001b[0m \u001b[0;34m==\u001b[0m \u001b[0mself\u001b[0m\u001b[0;34m.\u001b[0m\u001b[0mnlevels\u001b[0m \u001b[0;32mand\u001b[0m \u001b[0mself\u001b[0m\u001b[0;34m.\u001b[0m\u001b[0mis_unique\u001b[0m\u001b[0;34m:\u001b[0m\u001b[0;34m\u001b[0m\u001b[0;34m\u001b[0m\u001b[0m\n\u001b[0;32m-> 2672\u001b[0;31m             \u001b[0;32mreturn\u001b[0m \u001b[0mself\u001b[0m\u001b[0;34m.\u001b[0m\u001b[0m_engine\u001b[0m\u001b[0;34m.\u001b[0m\u001b[0mget_loc\u001b[0m\u001b[0;34m(\u001b[0m\u001b[0mkey\u001b[0m\u001b[0;34m)\u001b[0m\u001b[0;34m\u001b[0m\u001b[0;34m\u001b[0m\u001b[0m\n\u001b[0m\u001b[1;32m   2673\u001b[0m \u001b[0;34m\u001b[0m\u001b[0m\n\u001b[1;32m   2674\u001b[0m         \u001b[0;31m# -- partial selection or non-unique index\u001b[0m\u001b[0;34m\u001b[0m\u001b[0;34m\u001b[0m\u001b[0;34m\u001b[0m\u001b[0m\n",
      "\u001b[0;32mpandas/_libs/index.pyx\u001b[0m in \u001b[0;36mpandas._libs.index.BaseMultiIndexCodesEngine.get_loc\u001b[0;34m()\u001b[0m\n",
      "\u001b[0;31mKeyError\u001b[0m: ('Inputs', 'Light')"
     ]
    },
    {
     "data": {
      "image/png": "[encoded data removed]",
      "text/plain": [
       "<Figure size 432x288 with 1 Axes>"
      ]
     },
     "metadata": {
      "needs_background": "light"
     },
     "output_type": "display_data"
    }
   ],
   "source": [
    "#create plot\n",
    "fig, ax = plt.subplots()\n",
    "#plot observation interval\n",
    "ax.fill_between(predictions['Inputs','Light'],\n",
    "                predictions['Observation','Lower'],\n",
    "                predictions['Observation','Upper'],\n",
    "                alpha=0.3,\n",
    "                color='C1')\n",
    "#plot prediction interval\n",
    "ax.fill_between(predictions['Inputs','Light'],\n",
    "                predictions['Prediction','Lower'],\n",
    "                predictions['Prediction','Upper'],\n",
    "                alpha=0.4,\n",
    "                color='C0')\n",
    "#plot mean model prediction\n",
    "ax.plot(predictions['Inputs','Light'], predictions['Prediction','Mean'], '-')\n",
    "#plot initial dataset\n",
    "ax.plot(init_data['Light'], init_data['Observation'], 'o', color='C1')\n",
    "ax.set_xlabel('Light')\n",
    "ax.set_ylabel('GFP')\n",
    "plt.show()"
   ]
  },
  {
   "cell_type": "code",
   "execution_count": null,
   "id": "passive-condition",
   "metadata": {},
   "outputs": [],
   "source": []
  }
 ],
 "metadata": {
  "kernelspec": {
   "display_name": "Python 3",
   "language": "python",
   "name": "python3"
  },
  "language_info": {
   "codemirror_mode": {
    "name": "ipython",
    "version": 3
   },
   "file_extension": ".py",
   "mimetype": "text/x-python",
   "name": "python",
   "nbconvert_exporter": "python",
   "pygments_lexer": "ipython3",
   "version": "3.7.6"
  }
 },
 "nbformat": 4,
 "nbformat_minor": 5
}
