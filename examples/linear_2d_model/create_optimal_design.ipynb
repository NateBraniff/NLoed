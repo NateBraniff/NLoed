{
 "cells": [
  {
   "cell_type": "markdown",
   "id": "laughing-myrtle",
   "metadata": {},
   "source": [
    "# Creating an Optimal Design"
   ]
  },
  {
   "cell_type": "code",
   "execution_count": 11,
   "id": "emotional-anthropology",
   "metadata": {},
   "outputs": [],
   "source": [
    "from creating_a_2d_linear_model import *"
   ]
  },
  {
   "cell_type": "code",
   "execution_count": 19,
   "id": "executive-thirty",
   "metadata": {},
   "outputs": [
    {
     "data": {
      "text/plain": [
       "['Input1', 'Input2']"
      ]
     },
     "execution_count": 19,
     "metadata": {},
     "output_type": "execute_result"
    }
   ],
   "source": [
    "linear_model.input_name_list"
   ]
  },
  {
   "cell_type": "code",
   "execution_count": 24,
   "id": "collected-meeting",
   "metadata": {},
   "outputs": [],
   "source": [
    "continuous_inputs={'Inputs':['Input1','Input2'],\n",
    "                   'Bounds':[(-1,1),(-1,1)],\n",
    "                   'Structure':[['Input1_lv1','Input2_lv1'],\n",
    "                                ['Input1_lv2','Input2_lv2'],\n",
    "                                ['Input1_lv3','Input2_lv3']]}"
   ]
  },
  {
   "cell_type": "code",
   "execution_count": 25,
   "id": "miniature-adrian",
   "metadata": {},
   "outputs": [
    {
     "name": "stdout",
     "output_type": "stream",
     "text": [
      "\n",
      "******************************************************************************\n",
      "This program contains Ipopt, a library for large-scale nonlinear optimization.\n",
      " Ipopt is released as open source code under the Eclipse Public License (EPL).\n",
      "         For more information visit http://projects.coin-or.org/Ipopt\n",
      "******************************************************************************\n",
      "\n",
      "This is Ipopt version 3.12.3, running with linear solver mumps.\n",
      "NOTE: Other linear solvers might be more efficient (see Ipopt documentation).\n",
      "\n",
      "Number of nonzeros in equality constraint Jacobian...:        3\n",
      "Number of nonzeros in inequality constraint Jacobian.:        0\n",
      "Number of nonzeros in Lagrangian Hessian.............:       45\n",
      "\n",
      "Total number of variables............................:        9\n",
      "                     variables with only lower bounds:        0\n",
      "                variables with lower and upper bounds:        9\n",
      "                     variables with only upper bounds:        0\n",
      "Total number of equality constraints.................:        1\n",
      "Total number of inequality constraints...............:        0\n",
      "        inequality constraints with only lower bounds:        0\n",
      "   inequality constraints with lower and upper bounds:        0\n",
      "        inequality constraints with only upper bounds:        0\n",
      "\n",
      "iter    objective    inf_pr   inf_du lg(mu)  ||d||  lg(rg) alpha_du alpha_pr  ls\n",
      "   0  4.9654302e-02 0.00e+00 4.32e+00  -1.0 0.00e+00    -  0.00e+00 0.00e+00   0\n",
      "   1 -1.4100702e-01 0.00e+00 3.05e+00  -1.0 2.71e-02   2.0 1.00e+00 1.00e+00f  1\n",
      "   2 -4.0321844e-01 0.00e+00 2.06e+00  -1.0 4.84e-02   1.5 1.00e+00 1.00e+00f  1\n",
      "   3 -7.2233151e-01 0.00e+00 1.31e+00  -1.0 8.79e-02   1.0 1.00e+00 1.00e+00f  1\n",
      "   4 -1.0898999e+00 0.00e+00 8.54e-01  -1.0 1.72e-01   0.6 1.00e+00 1.00e+00f  1\n",
      "   5 -1.5657803e+00 0.00e+00 5.26e-01  -1.7 3.37e-01   0.1 8.65e-01 1.00e+00f  1\n",
      "   6 -1.9277380e+00 0.00e+00 3.68e-01  -1.7 6.67e-01  -0.4 8.02e-01 6.55e-01f  1\n",
      "   7 -2.0279778e+00 0.00e+00 2.44e-01  -1.7 2.12e-01   0.0 1.00e+00 1.00e+00f  1\n",
      "   8 -2.0364473e+00 0.00e+00 7.60e-03  -1.7 2.07e-02  -0.4 1.00e+00 1.00e+00f  1\n",
      "   9 -2.1136100e+00 0.00e+00 1.69e-02  -3.8 1.41e-01  -0.9 9.30e-01 1.00e+00f  1\n",
      "iter    objective    inf_pr   inf_du lg(mu)  ||d||  lg(rg) alpha_du alpha_pr  ls\n",
      "  10 -2.1246930e+00 0.00e+00 2.72e-02  -3.8 8.32e-02  -0.5 1.00e+00 1.00e+00f  1\n",
      "  11 -2.1276041e+00 0.00e+00 1.09e-02  -3.8 1.29e-01  -1.0 9.81e-01 4.51e-01f  1\n",
      "  12 -2.1276057e+00 0.00e+00 2.93e-02  -3.8 3.01e+01    -  1.08e-02 5.84e-03f  2\n",
      "  13 -2.1276155e+00 0.00e+00 4.42e-01  -3.8 1.08e+01  -0.5 2.09e-01 2.83e-02f  1\n",
      "  14 -2.1268535e+00 0.00e+00 7.55e-02  -3.8 6.79e-01    -  1.00e+00 7.81e-03f  8\n",
      "  15 -2.1273466e+00 0.00e+00 1.88e-07  -3.8 2.44e-03    -  1.00e+00 1.00e+00f  1\n",
      "  16 -2.1281582e+00 0.00e+00 2.74e-04  -5.7 2.84e-03  -1.0 1.00e+00 1.00e+00f  1\n",
      "  17 -2.1281598e+00 0.00e+00 6.20e-07  -5.7 1.93e-05  -1.5 1.00e+00 1.00e+00f  1\n",
      "  18 -2.1281690e+00 0.00e+00 3.27e-09  -8.6 1.30e-03    -  9.97e-01 9.97e-01f  1\n",
      "\n",
      "Number of Iterations....: 18\n",
      "\n",
      "                                   (scaled)                 (unscaled)\n",
      "Objective...............:  -2.1281690255092394e+00   -2.1281690255092394e+00\n",
      "Dual infeasibility......:   3.2667875186659547e-09    3.2667875186659547e-09\n",
      "Constraint violation....:   0.0000000000000000e+00    0.0000000000000000e+00\n",
      "Complementarity.........:   9.2903479466225654e-09    9.2903479466225654e-09\n",
      "Overall NLP error.......:   9.2903479466225654e-09    9.2903479466225654e-09\n",
      "\n",
      "\n",
      "Number of objective function evaluations             = 35\n",
      "Number of objective gradient evaluations             = 19\n",
      "Number of equality constraint evaluations            = 35\n",
      "Number of inequality constraint evaluations          = 0\n",
      "Number of equality constraint Jacobian evaluations   = 19\n",
      "Number of inequality constraint Jacobian evaluations = 0\n",
      "Number of Lagrangian Hessian evaluations             = 18\n",
      "Total CPU secs in IPOPT (w/o function evaluations)   =      0.012\n",
      "Total CPU secs in NLP function evaluations           =      0.002\n",
      "\n",
      "EXIT: Optimal Solution Found.\n",
      "      solver  :   t_proc      (avg)   t_wall      (avg)    n_eval\n",
      "       nlp_f  | 158.00us (  4.51us) 157.00us (  4.49us)        35\n",
      "       nlp_g  |  86.00us (  2.46us)  81.00us (  2.31us)        35\n",
      "  nlp_grad_f  | 305.00us ( 15.25us)   1.16ms ( 57.95us)        20\n",
      "  nlp_hess_l  | 880.00us ( 48.89us) 889.00us ( 49.39us)        18\n",
      "   nlp_jac_g  |  57.00us (  2.85us)  65.00us (  3.25us)        20\n",
      "       total  |  19.46ms ( 19.46ms)  36.87ms ( 36.87ms)         1\n"
     ]
    }
   ],
   "source": [
    "optimal_design = nl.Design(linear_model,[1,1,1],'D',continuous_inputs=continuous_inputs)"
   ]
  },
  {
   "cell_type": "code",
   "execution_count": 26,
   "id": "cognitive-marriage",
   "metadata": {},
   "outputs": [
    {
     "data": {
      "text/html": [
       "<div>\n",
       "<style scoped>\n",
       "    .dataframe tbody tr th:only-of-type {\n",
       "        vertical-align: middle;\n",
       "    }\n",
       "\n",
       "    .dataframe tbody tr th {\n",
       "        vertical-align: top;\n",
       "    }\n",
       "\n",
       "    .dataframe thead th {\n",
       "        text-align: right;\n",
       "    }\n",
       "</style>\n",
       "<table border=\"1\" class=\"dataframe\">\n",
       "  <thead>\n",
       "    <tr style=\"text-align: right;\">\n",
       "      <th></th>\n",
       "      <th>Input1</th>\n",
       "      <th>Input2</th>\n",
       "      <th>Variable</th>\n",
       "      <th>Weights</th>\n",
       "    </tr>\n",
       "  </thead>\n",
       "  <tbody>\n",
       "    <tr>\n",
       "      <th>0</th>\n",
       "      <td>-1.000000</td>\n",
       "      <td>1.0</td>\n",
       "      <td>y</td>\n",
       "      <td>0.333333</td>\n",
       "    </tr>\n",
       "    <tr>\n",
       "      <th>1</th>\n",
       "      <td>-0.693958</td>\n",
       "      <td>-1.0</td>\n",
       "      <td>y</td>\n",
       "      <td>0.333333</td>\n",
       "    </tr>\n",
       "    <tr>\n",
       "      <th>2</th>\n",
       "      <td>1.000000</td>\n",
       "      <td>1.0</td>\n",
       "      <td>y</td>\n",
       "      <td>0.333333</td>\n",
       "    </tr>\n",
       "  </tbody>\n",
       "</table>\n",
       "</div>"
      ],
      "text/plain": [
       "     Input1  Input2 Variable   Weights\n",
       "0 -1.000000     1.0        y  0.333333\n",
       "1 -0.693958    -1.0        y  0.333333\n",
       "2  1.000000     1.0        y  0.333333"
      ]
     },
     "execution_count": 26,
     "metadata": {},
     "output_type": "execute_result"
    }
   ],
   "source": [
    "optimal_design.relaxed()"
   ]
  },
  {
   "cell_type": "code",
   "execution_count": 28,
   "id": "written-revolution",
   "metadata": {},
   "outputs": [
    {
     "name": "stdout",
     "output_type": "stream",
     "text": [
      "     Input1  Input2 Variable  Replicates\n",
      "0 -1.000000     1.0        y           3\n",
      "1 -0.693958    -1.0        y           3\n",
      "2  1.000000     1.0        y           3\n"
     ]
    }
   ],
   "source": [
    "design=optimal_design.round(9)\n",
    "print(design)"
   ]
  },
  {
   "cell_type": "code",
   "execution_count": 30,
   "id": "deluxe-breakfast",
   "metadata": {},
   "outputs": [
    {
     "name": "stdout",
     "output_type": "stream",
     "text": [
      "          Covariance                    \n",
      "           Intercept    Slope1    Slope2\n",
      "Intercept   0.014507  0.005783 -0.006173\n",
      "Slope1      0.005783  0.016667 -0.005783\n",
      "Slope2     -0.006173 -0.005783  0.014507\n"
     ]
    }
   ],
   "source": [
    "eval = linear_model.evaluate(design,[1,1,1])\n",
    "print(eval)"
   ]
  },
  {
   "cell_type": "code",
   "execution_count": null,
   "id": "oriental-entity",
   "metadata": {},
   "outputs": [],
   "source": []
  }
 ],
 "metadata": {
  "kernelspec": {
   "display_name": "Python 3",
   "language": "python",
   "name": "python3"
  },
  "language_info": {
   "codemirror_mode": {
    "name": "ipython",
    "version": 3
   },
   "file_extension": ".py",
   "mimetype": "text/x-python",
   "name": "python",
   "nbconvert_exporter": "python",
   "pygments_lexer": "ipython3",
   "version": "3.7.6"
  }
 },
 "nbformat": 4,
 "nbformat_minor": 5
}
