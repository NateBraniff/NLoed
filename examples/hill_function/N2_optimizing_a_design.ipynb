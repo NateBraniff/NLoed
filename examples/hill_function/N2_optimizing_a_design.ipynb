{
 "cells": [
  {
   "cell_type": "markdown",
   "id": "german-formation",
   "metadata": {},
   "source": [
    "# Optimizing a Design for the Hill Function Model\n",
    "\n"
   ]
  },
  {
   "cell_type": "code",
   "execution_count": 18,
   "id": "every-negative",
   "metadata": {},
   "outputs": [],
   "source": [
    "import numpy as np\n",
    "from scripts.N1_model_creation import *"
   ]
  },
  {
   "cell_type": "markdown",
   "id": "changed-backup",
   "metadata": {},
   "source": [
    "### Specifying the Design Details"
   ]
  },
  {
   "cell_type": "code",
   "execution_count": 19,
   "id": "guided-community",
   "metadata": {},
   "outputs": [],
   "source": [
    "continuous_inputs={'Inputs':['Inducer'],\n",
    "                   'Bounds':[(.1,5)],\n",
    "                   'Structure':[['x1'],['x2'],['x3'],['x4']]}"
   ]
  },
  {
   "cell_type": "markdown",
   "id": "persistent-modification",
   "metadata": {},
   "source": []
  },
  {
   "cell_type": "code",
   "execution_count": 20,
   "id": "progressive-orientation",
   "metadata": {},
   "outputs": [],
   "source": [
    "nominal_param = np.log([1,5,2,1])\n",
    "objective = 'D'"
   ]
  },
  {
   "cell_type": "markdown",
   "id": "manufactured-pantyhose",
   "metadata": {},
   "source": [
    "### Instantiating the Design and Returning Results"
   ]
  },
  {
   "cell_type": "code",
   "execution_count": 21,
   "id": "fabulous-white",
   "metadata": {},
   "outputs": [
    {
     "name": "stdout",
     "output_type": "stream",
     "text": [
      "This is Ipopt version 3.12.3, running with linear solver mumps.\n",
      "NOTE: Other linear solvers might be more efficient (see Ipopt documentation).\n",
      "\n",
      "Number of nonzeros in equality constraint Jacobian...:        4\n",
      "Number of nonzeros in inequality constraint Jacobian.:        0\n",
      "Number of nonzeros in Lagrangian Hessian.............:       36\n",
      "\n",
      "Total number of variables............................:        8\n",
      "                     variables with only lower bounds:        0\n",
      "                variables with lower and upper bounds:        8\n",
      "                     variables with only upper bounds:        0\n",
      "Total number of equality constraints.................:        1\n",
      "Total number of inequality constraints...............:        0\n",
      "        inequality constraints with only lower bounds:        0\n",
      "   inequality constraints with lower and upper bounds:        0\n",
      "        inequality constraints with only upper bounds:        0\n",
      "\n",
      "iter    objective    inf_pr   inf_du lg(mu)  ||d||  lg(rg) alpha_du alpha_pr  ls\n",
      "   0  6.1183380e+00 0.00e+00 1.00e+02  -1.0 0.00e+00    -  0.00e+00 0.00e+00   0\n",
      "   1  5.4249736e+00 0.00e+00 5.00e+01  -1.0 2.95e-01    -  8.74e-01 1.00e+00f  1\n",
      "   2  3.8151134e+00 1.11e-16 2.50e+01  -1.0 1.59e+00    -  1.00e+00 1.00e+00f  1\n",
      "   3  3.3682454e+00 1.11e-16 1.66e+01  -1.0 2.45e+00    -  1.00e+00 5.00e-01f  2\n",
      "   4  2.9551118e+00 2.22e-16 8.33e+00  -1.0 1.21e-01    -  1.00e+00 1.00e+00f  1\n",
      "   5  2.6023075e+00 0.00e+00 4.16e+00  -1.0 1.34e-02    -  1.00e+00 1.00e+00f  1\n",
      "   6  2.2559558e+00 1.11e-16 2.08e+00  -1.0 2.04e-02    -  1.00e+00 1.00e+00f  1\n",
      "   7  1.9102661e+00 0.00e+00 1.04e+00  -1.0 4.05e-02    -  1.00e+00 1.00e+00f  1\n",
      "   8  1.5672105e+00 0.00e+00 5.14e-01  -1.0 8.03e-02    -  1.00e+00 1.00e+00f  1\n",
      "   9  8.4412158e-01 0.00e+00 2.54e-01  -1.7 2.59e-01    -  1.00e+00 1.00e+00f  1\n",
      "iter    objective    inf_pr   inf_du lg(mu)  ||d||  lg(rg) alpha_du alpha_pr  ls\n",
      "  10  5.6272707e-01 0.00e+00 1.22e-01  -1.7 4.56e-01    -  1.00e+00 1.00e+00f  1\n",
      "  11  2.2209664e-01 0.00e+00 5.28e-02  -2.5 7.16e-01    -  9.52e-01 1.00e+00f  1\n",
      "  12  1.3202364e-01 0.00e+00 1.95e-02  -2.5 5.33e-01    -  1.00e+00 6.58e-01f  1\n",
      "  13  1.1641419e-01 0.00e+00 1.06e-02  -3.8 2.98e-01    -  9.52e-01 1.00e+00f  1\n",
      "  14  1.1652358e-01 0.00e+00 4.85e-05  -3.8 2.78e-02    -  1.00e+00 1.00e+00f  1\n",
      "  15  1.1564817e-01 0.00e+00 9.48e-07  -5.7 3.25e-03    -  1.00e+00 1.00e+00f  1\n",
      "  16  1.1563668e-01 0.00e+00 1.56e-10  -8.6 4.75e-05    -  1.00e+00 1.00e+00f  1\n",
      "\n",
      "Number of Iterations....: 16\n",
      "\n",
      "                                   (scaled)                 (unscaled)\n",
      "Objective...............:   3.9104330094456068e-02    1.1563668177092123e-01\n",
      "Dual infeasibility......:   1.5624360056398806e-10    4.6203301459247592e-10\n",
      "Constraint violation....:   0.0000000000000000e+00    0.0000000000000000e+00\n",
      "Complementarity.........:   2.5693585308908857e-09    7.5979333765432141e-09\n",
      "Overall NLP error.......:   2.5693585308908857e-09    7.5979333765432141e-09\n",
      "\n",
      "\n",
      "Number of objective function evaluations             = 18\n",
      "Number of objective gradient evaluations             = 17\n",
      "Number of equality constraint evaluations            = 18\n",
      "Number of inequality constraint evaluations          = 0\n",
      "Number of equality constraint Jacobian evaluations   = 17\n",
      "Number of inequality constraint Jacobian evaluations = 0\n",
      "Number of Lagrangian Hessian evaluations             = 16\n",
      "Total CPU secs in IPOPT (w/o function evaluations)   =      0.015\n",
      "Total CPU secs in NLP function evaluations           =      0.005\n",
      "\n",
      "EXIT: Optimal Solution Found.\n",
      "      solver  :   t_proc      (avg)   t_wall      (avg)    n_eval\n",
      "       nlp_f  | 233.00us ( 12.94us) 228.00us ( 12.67us)        18\n",
      "       nlp_g  |  90.00us (  5.00us) 195.00us ( 10.83us)        18\n",
      "  nlp_grad_f  | 566.00us ( 31.44us) 598.00us ( 33.22us)        18\n",
      "  nlp_hess_l  |   3.73ms (233.19us)   3.78ms (236.38us)        16\n",
      "   nlp_jac_g  |  50.00us (  2.78us)  51.00us (  2.83us)        18\n",
      "       total  |  24.84ms ( 24.84ms)  24.57ms ( 24.57ms)         1\n"
     ]
    }
   ],
   "source": [
    "design_object = nl.Design(hill_model, nominal_param, objective, continuous_inputs=continuous_inputs)"
   ]
  },
  {
   "cell_type": "markdown",
   "id": "neural-transsexual",
   "metadata": {},
   "source": []
  },
  {
   "cell_type": "code",
   "execution_count": 22,
   "id": "steady-vertical",
   "metadata": {},
   "outputs": [
    {
     "data": {
      "text/html": [
       "<div>\n",
       "<style scoped>\n",
       "    .dataframe tbody tr th:only-of-type {\n",
       "        vertical-align: middle;\n",
       "    }\n",
       "\n",
       "    .dataframe tbody tr th {\n",
       "        vertical-align: top;\n",
       "    }\n",
       "\n",
       "    .dataframe thead th {\n",
       "        text-align: right;\n",
       "    }\n",
       "</style>\n",
       "<table border=\"1\" class=\"dataframe\">\n",
       "  <thead>\n",
       "    <tr style=\"text-align: right;\">\n",
       "      <th></th>\n",
       "      <th>Inducer</th>\n",
       "      <th>Variable</th>\n",
       "      <th>Weights</th>\n",
       "    </tr>\n",
       "  </thead>\n",
       "  <tbody>\n",
       "    <tr>\n",
       "      <th>0</th>\n",
       "      <td>1.814298</td>\n",
       "      <td>Response</td>\n",
       "      <td>0.25</td>\n",
       "    </tr>\n",
       "    <tr>\n",
       "      <th>1</th>\n",
       "      <td>0.418701</td>\n",
       "      <td>Response</td>\n",
       "      <td>0.25</td>\n",
       "    </tr>\n",
       "    <tr>\n",
       "      <th>2</th>\n",
       "      <td>5.000000</td>\n",
       "      <td>Response</td>\n",
       "      <td>0.25</td>\n",
       "    </tr>\n",
       "    <tr>\n",
       "      <th>3</th>\n",
       "      <td>0.100000</td>\n",
       "      <td>Response</td>\n",
       "      <td>0.25</td>\n",
       "    </tr>\n",
       "  </tbody>\n",
       "</table>\n",
       "</div>"
      ],
      "text/plain": [
       "    Inducer  Variable  Weights\n",
       "0  1.814298  Response     0.25\n",
       "1  0.418701  Response     0.25\n",
       "2  5.000000  Response     0.25\n",
       "3  0.100000  Response     0.25"
      ]
     },
     "execution_count": 22,
     "metadata": {},
     "output_type": "execute_result"
    }
   ],
   "source": [
    "design_object.relaxed()"
   ]
  },
  {
   "cell_type": "markdown",
   "id": "duplicate-carnival",
   "metadata": {},
   "source": []
  },
  {
   "cell_type": "code",
   "execution_count": 23,
   "id": "alpine-jones",
   "metadata": {},
   "outputs": [
    {
     "data": {
      "text/html": [
       "<div>\n",
       "<style scoped>\n",
       "    .dataframe tbody tr th:only-of-type {\n",
       "        vertical-align: middle;\n",
       "    }\n",
       "\n",
       "    .dataframe tbody tr th {\n",
       "        vertical-align: top;\n",
       "    }\n",
       "\n",
       "    .dataframe thead th {\n",
       "        text-align: right;\n",
       "    }\n",
       "</style>\n",
       "<table border=\"1\" class=\"dataframe\">\n",
       "  <thead>\n",
       "    <tr style=\"text-align: right;\">\n",
       "      <th></th>\n",
       "      <th>Inducer</th>\n",
       "      <th>Variable</th>\n",
       "      <th>Replicates</th>\n",
       "    </tr>\n",
       "  </thead>\n",
       "  <tbody>\n",
       "    <tr>\n",
       "      <th>0</th>\n",
       "      <td>1.814298</td>\n",
       "      <td>Response</td>\n",
       "      <td>6</td>\n",
       "    </tr>\n",
       "    <tr>\n",
       "      <th>1</th>\n",
       "      <td>0.418701</td>\n",
       "      <td>Response</td>\n",
       "      <td>6</td>\n",
       "    </tr>\n",
       "    <tr>\n",
       "      <th>2</th>\n",
       "      <td>5.000000</td>\n",
       "      <td>Response</td>\n",
       "      <td>6</td>\n",
       "    </tr>\n",
       "    <tr>\n",
       "      <th>3</th>\n",
       "      <td>0.100000</td>\n",
       "      <td>Response</td>\n",
       "      <td>6</td>\n",
       "    </tr>\n",
       "  </tbody>\n",
       "</table>\n",
       "</div>"
      ],
      "text/plain": [
       "    Inducer  Variable  Replicates\n",
       "0  1.814298  Response           6\n",
       "1  0.418701  Response           6\n",
       "2  5.000000  Response           6\n",
       "3  0.100000  Response           6"
      ]
     },
     "execution_count": 23,
     "metadata": {},
     "output_type": "execute_result"
    }
   ],
   "source": [
    "sample_size = 48\n",
    "exact_design = design_object.round(sample_size)\n",
    "exact_design"
   ]
  }
 ],
 "metadata": {
  "kernelspec": {
   "display_name": "Python 3",
   "language": "python",
   "name": "python3"
  },
  "language_info": {
   "codemirror_mode": {
    "name": "ipython",
    "version": 3
   },
   "file_extension": ".py",
   "mimetype": "text/x-python",
   "name": "python",
   "nbconvert_exporter": "python",
   "pygments_lexer": "ipython3",
   "version": "3.7.6"
  }
 },
 "nbformat": 4,
 "nbformat_minor": 5
}
