{
 "cells": [
  {
   "cell_type": "markdown",
   "id": "infectious-smell",
   "metadata": {},
   "source": [
    "# Sampling and Fitting the Hill Function Model\n"
   ]
  },
  {
   "cell_type": "code",
   "execution_count": 24,
   "id": "active-rotation",
   "metadata": {},
   "outputs": [
    {
     "name": "stdout",
     "output_type": "stream",
     "text": [
      "This is Ipopt version 3.12.3, running with linear solver mumps.\n",
      "NOTE: Other linear solvers might be more efficient (see Ipopt documentation).\n",
      "\n",
      "Number of nonzeros in equality constraint Jacobian...:        4\n",
      "Number of nonzeros in inequality constraint Jacobian.:        0\n",
      "Number of nonzeros in Lagrangian Hessian.............:       36\n",
      "\n",
      "Total number of variables............................:        8\n",
      "                     variables with only lower bounds:        0\n",
      "                variables with lower and upper bounds:        8\n",
      "                     variables with only upper bounds:        0\n",
      "Total number of equality constraints.................:        1\n",
      "Total number of inequality constraints...............:        0\n",
      "        inequality constraints with only lower bounds:        0\n",
      "   inequality constraints with lower and upper bounds:        0\n",
      "        inequality constraints with only upper bounds:        0\n",
      "\n",
      "iter    objective    inf_pr   inf_du lg(mu)  ||d||  lg(rg) alpha_du alpha_pr  ls\n",
      "   0  1.9090178e+00 0.00e+00 1.20e+00  -1.0 0.00e+00    -  0.00e+00 0.00e+00   0\n",
      "   1 -2.8665658e-02 0.00e+00 5.12e-01  -1.0 1.13e+00    -  7.57e-01 1.00e+00f  1\n",
      "   2 -1.2924286e+00 0.00e+00 5.11e-01  -1.0 1.88e+00    -  9.48e-01 4.28e-01f  1\n",
      "   3 -1.7797923e+00 0.00e+00 2.94e-01  -1.7 1.61e+00    -  7.87e-01 4.61e-01f  2\n",
      "   4 -2.0984994e+00 0.00e+00 6.06e-01  -1.7 7.15e-01    -  1.00e+00 1.00e+00f  1\n",
      "   5 -2.1252497e+00 0.00e+00 2.64e-02  -1.7 4.72e-01    -  1.00e+00 1.00e+00f  1\n",
      "   6 -2.1649710e+00 0.00e+00 4.88e-03  -3.8 1.42e-01    -  9.77e-01 9.81e-01f  1\n",
      "   7 -2.1660727e+00 0.00e+00 1.17e-05  -3.8 9.27e-03    -  1.00e+00 1.00e+00f  1\n",
      "   8 -2.1663679e+00 1.11e-16 3.44e-07  -5.7 1.09e-03    -  1.00e+00 1.00e+00f  1\n",
      "   9 -2.1663717e+00 0.00e+00 5.28e-11  -8.6 1.46e-05    -  1.00e+00 1.00e+00f  1\n",
      "\n",
      "Number of Iterations....: 9\n",
      "\n",
      "                                   (scaled)                 (unscaled)\n",
      "Objective...............:  -2.1663716520903038e+00   -2.1663716520903038e+00\n",
      "Dual infeasibility......:   5.2771797352503159e-11    5.2771797352503159e-11\n",
      "Constraint violation....:   0.0000000000000000e+00    0.0000000000000000e+00\n",
      "Complementarity.........:   2.5253218570572228e-09    2.5253218570572228e-09\n",
      "Overall NLP error.......:   2.5253218570572228e-09    2.5253218570572228e-09\n",
      "\n",
      "\n",
      "Number of objective function evaluations             = 15\n",
      "Number of objective gradient evaluations             = 10\n",
      "Number of equality constraint evaluations            = 15\n",
      "Number of inequality constraint evaluations          = 0\n",
      "Number of equality constraint Jacobian evaluations   = 10\n",
      "Number of inequality constraint Jacobian evaluations = 0\n",
      "Number of Lagrangian Hessian evaluations             = 9\n",
      "Total CPU secs in IPOPT (w/o function evaluations)   =      0.006\n",
      "Total CPU secs in NLP function evaluations           =      0.003\n",
      "\n",
      "EXIT: Optimal Solution Found.\n",
      "      solver  :   t_proc      (avg)   t_wall      (avg)    n_eval\n",
      "       nlp_f  | 147.00us (  9.80us) 146.00us (  9.73us)        15\n",
      "       nlp_g  |  69.00us (  4.60us)  70.00us (  4.67us)        15\n",
      "  nlp_grad_f  | 312.00us ( 28.36us) 312.00us ( 28.36us)        11\n",
      "  nlp_hess_l  |   2.13ms (237.00us)   2.19ms (243.89us)         9\n",
      "   nlp_jac_g  |  29.00us (  2.64us)  29.00us (  2.64us)        11\n",
      "       total  |  12.18ms ( 12.18ms)  12.62ms ( 12.62ms)         1\n"
     ]
    }
   ],
   "source": [
    "from scripts.N2_optimizing_a_design import *"
   ]
  },
  {
   "cell_type": "markdown",
   "id": "statewide-contest",
   "metadata": {},
   "source": [
    "### Sampling the Model using Simulated Data\n",
    "\n"
   ]
  },
  {
   "cell_type": "code",
   "execution_count": 25,
   "id": "colonial-shopper",
   "metadata": {},
   "outputs": [
    {
     "name": "stdout",
     "output_type": "stream",
     "text": [
      "\r",
      "Sampling Datasets: |--------------------------------------------------| 0.0%\r",
      "\r",
      "Sampling Datasets: |██████████████████████████████████████████████████| 100.0%\r\n"
     ]
    }
   ],
   "source": [
    "data = hill_model.sample(exact_design,nominal_param)"
   ]
  },
  {
   "cell_type": "markdown",
   "id": "outstanding-cleveland",
   "metadata": {},
   "source": []
  },
  {
   "cell_type": "code",
   "execution_count": 26,
   "id": "structural-logan",
   "metadata": {},
   "outputs": [
    {
     "name": "stdout",
     "output_type": "stream",
     "text": [
      "     Inducer  Variable  Observation\n",
      "0   1.818286  Response     3.314058\n",
      "1   1.818286  Response     3.350793\n",
      "2   1.818286  Response     3.665409\n",
      "3   1.818286  Response     3.420714\n",
      "4   1.818286  Response     3.595638\n",
      "5   1.818286  Response     3.740483\n",
      "6   5.000000  Response     4.466785\n",
      "7   5.000000  Response     4.213058\n",
      "8   5.000000  Response     4.502332\n",
      "9   5.000000  Response     4.347829\n",
      "10  5.000000  Response     4.668220\n",
      "11  5.000000  Response     4.917489\n",
      "12  0.420383  Response     1.884923\n",
      "13  0.420383  Response     1.764674\n",
      "14  0.420383  Response     1.872463\n",
      "15  0.420383  Response     1.874378\n",
      "16  0.420383  Response     1.927788\n",
      "17  0.420383  Response     2.033790\n",
      "18  0.100000  Response     1.189429\n",
      "19  0.100000  Response     1.253863\n",
      "20  0.100000  Response     1.400522\n",
      "21  0.100000  Response     1.278223\n",
      "22  0.100000  Response     1.173978\n",
      "23  0.100000  Response     1.352382\n"
     ]
    }
   ],
   "source": [
    "print(data)"
   ]
  },
  {
   "cell_type": "markdown",
   "id": "dependent-basement",
   "metadata": {},
   "source": [
    "### Fitting the Model with Maximum Likelihood"
   ]
  },
  {
   "cell_type": "code",
   "execution_count": 34,
   "id": "optimum-cambridge",
   "metadata": {},
   "outputs": [],
   "source": [
    "fit_options={'Confidence':'Profiles',  \n",
    "             'InitParamBounds':[(-1,4),(-1,4),(-1,4),(-1,4)],\n",
    "             'InitSearchNumber':7,\n",
    "             'SearchBound':5.}\n"
   ]
  },
  {
   "cell_type": "markdown",
   "id": "declared-wrong",
   "metadata": {},
   "source": []
  },
  {
   "cell_type": "code",
   "execution_count": 35,
   "id": "corrected-booking",
   "metadata": {},
   "outputs": [
    {
     "name": "stdout",
     "output_type": "stream",
     "text": [
      "Fitting Dataset(s): |██████████████████████████████████████████████████| 100.0%\n",
      "Computing confidence information for replicat: 0\n",
      "Profile Traces: |██████████████████████████████████████████████████| 100.0%\n"
     ]
    },
    {
     "data": {
      "image/png": "[encoded data removed]",
      "text/plain": [
       "<Figure size 432x288 with 10 Axes>"
      ]
     },
     "metadata": {
      "needs_background": "light"
     },
     "output_type": "display_data"
    },
    {
     "name": "stdout",
     "output_type": "stream",
     "text": [
      "Parameter     Basal      Rate      Hill  HalfConst\n",
      "0          0.110983  1.412058  0.320565    0.20549\n"
     ]
    }
   ],
   "source": [
    "fit_info = hill_model.fit(data, options=fit_options)\n",
    "print(fit_info['Estimate'])"
   ]
  },
  {
   "cell_type": "code",
   "execution_count": 33,
   "id": "fresh-short",
   "metadata": {},
   "outputs": [
    {
     "name": "stdout",
     "output_type": "stream",
     "text": [
      "Parameter     Basal      Rate      Hill  HalfConst\n",
      "0         -0.693128  1.183252 -0.074704  -0.536521\n",
      "Parameter     Basal      Rate     Hill  HalfConst\n",
      "0          0.307622  2.196458  1.96355   0.579308\n"
     ]
    }
   ],
   "source": [
    "print(fit_info['Lower'])\n",
    "print(fit_info['Upper'])"
   ]
  },
  {
   "cell_type": "markdown",
   "id": "southern-adult",
   "metadata": {},
   "source": []
  },
  {
   "cell_type": "code",
   "execution_count": 29,
   "id": "progressive-commander",
   "metadata": {},
   "outputs": [
    {
     "name": "stdout",
     "output_type": "stream",
     "text": [
      "[1.11737571 4.10439541 1.37790608 1.22812728]\n"
     ]
    }
   ],
   "source": [
    "fit_params = fit_info['Estimate'].to_numpy().flatten()\n",
    "print(np.exp(fit_params))"
   ]
  },
  {
   "cell_type": "code",
   "execution_count": 30,
   "id": "alpha-ethernet",
   "metadata": {},
   "outputs": [
    {
     "name": "stdout",
     "output_type": "stream",
     "text": [
      "[1. 5. 2. 1.]\n"
     ]
    }
   ],
   "source": [
    "print(np.exp(nominal_param))"
   ]
  },
  {
   "cell_type": "code",
   "execution_count": null,
   "id": "placed-stevens",
   "metadata": {},
   "outputs": [],
   "source": []
  }
 ],
 "metadata": {
  "kernelspec": {
   "display_name": "Python 3",
   "language": "python",
   "name": "python3"
  },
  "language_info": {
   "codemirror_mode": {
    "name": "ipython",
    "version": 3
   },
   "file_extension": ".py",
   "mimetype": "text/x-python",
   "name": "python",
   "nbconvert_exporter": "python",
   "pygments_lexer": "ipython3",
   "version": "3.7.6"
  }
 },
 "nbformat": 4,
 "nbformat_minor": 5
}
